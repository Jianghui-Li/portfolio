{
 "cells": [
  {
   "cell_type": "code",
   "execution_count": 14,
   "id": "00df1035",
   "metadata": {},
   "outputs": [],
   "source": [
    "%matplotlib inline\n",
    "\n",
    "import pandas as pd\n",
    "import numpy as np\n",
    "import requests\n",
    "from io import StringIO\n",
    "from io import BytesIO\n",
    "from zipfile import ZipFile\n",
    "import matplotlib.pyplot as plt\n",
    "import seaborn as sns"
   ]
  },
  {
   "cell_type": "code",
   "execution_count": 2,
   "id": "2cca027d",
   "metadata": {},
   "outputs": [
    {
     "name": "stderr",
     "output_type": "stream",
     "text": [
      "/opt/conda/lib/python3.9/site-packages/urllib3/connectionpool.py:1013: InsecureRequestWarning: Unverified HTTPS request is being made to host 'gitlab.gitlab.svc.cent-su.org'. Adding certificate verification is strongly advised. See: https://urllib3.readthedocs.io/en/1.26.x/advanced-usage.html#ssl-warnings\n",
      "  warnings.warn(\n"
     ]
    }
   ],
   "source": [
    "#Defining the url for the dataset\n",
    "urlds=\"https://gitlab.gitlab.svc.cent-su.org/ccaicedo/652public/-/raw/master/Sp22/Team1_NYC_Restaurant_Inspections.zip\"\n",
    "\n",
    "#Access to datasets via URLs is usually easy (see command below) but we have to work around a security issue in our case.\n",
    "csvdata=requests.get(urlds,verify=False).content  #this will generate a warning but you can proceed\n",
    "\n",
    "zf = ZipFile(BytesIO(csvdata),'r')  #The dataset is being accessed from a zip file so this step is needed. \n",
    "#It might take a while for all of the data to be accessed. Be patient."
   ]
  },
  {
   "cell_type": "code",
   "execution_count": 3,
   "id": "b7ac55dd",
   "metadata": {},
   "outputs": [],
   "source": [
    "#Opening the dataset file and reading it into a data frame called \"data\"\n",
    "data=pd.read_csv(zf.open(\"Team1_DOHMH_NYC_Restaurant_Inspections.csv\"))"
   ]
  },
  {
   "cell_type": "code",
   "execution_count": 4,
   "id": "a07ba319",
   "metadata": {},
   "outputs": [
    {
     "data": {
      "text/html": [
       "<div>\n",
       "<style scoped>\n",
       "    .dataframe tbody tr th:only-of-type {\n",
       "        vertical-align: middle;\n",
       "    }\n",
       "\n",
       "    .dataframe tbody tr th {\n",
       "        vertical-align: top;\n",
       "    }\n",
       "\n",
       "    .dataframe thead th {\n",
       "        text-align: right;\n",
       "    }\n",
       "</style>\n",
       "<table border=\"1\" class=\"dataframe\">\n",
       "  <thead>\n",
       "    <tr style=\"text-align: right;\">\n",
       "      <th></th>\n",
       "      <th>CAMIS</th>\n",
       "      <th>DBA</th>\n",
       "      <th>BORO</th>\n",
       "      <th>BUILDING</th>\n",
       "      <th>STREET</th>\n",
       "      <th>ZIPCODE</th>\n",
       "      <th>PHONE</th>\n",
       "      <th>CUISINE DESCRIPTION</th>\n",
       "      <th>INSPECTION DATE</th>\n",
       "      <th>ACTION</th>\n",
       "      <th>...</th>\n",
       "      <th>RECORD DATE</th>\n",
       "      <th>INSPECTION TYPE</th>\n",
       "      <th>Latitude</th>\n",
       "      <th>Longitude</th>\n",
       "      <th>Community Board</th>\n",
       "      <th>Council District</th>\n",
       "      <th>Census Tract</th>\n",
       "      <th>BIN</th>\n",
       "      <th>BBL</th>\n",
       "      <th>NTA</th>\n",
       "    </tr>\n",
       "  </thead>\n",
       "  <tbody>\n",
       "    <tr>\n",
       "      <th>0</th>\n",
       "      <td>50008319</td>\n",
       "      <td>POULETTE</td>\n",
       "      <td>Manhattan</td>\n",
       "      <td>790</td>\n",
       "      <td>9 AVENUE</td>\n",
       "      <td>10019.0</td>\n",
       "      <td>2129569488</td>\n",
       "      <td>Chicken</td>\n",
       "      <td>01/28/2019</td>\n",
       "      <td>Violations were cited in the following area(s).</td>\n",
       "      <td>...</td>\n",
       "      <td>03/24/2022</td>\n",
       "      <td>Cycle Inspection / Initial Inspection</td>\n",
       "      <td>40.765040</td>\n",
       "      <td>-73.987795</td>\n",
       "      <td>104.0</td>\n",
       "      <td>3.0</td>\n",
       "      <td>13300.0</td>\n",
       "      <td>1025235.0</td>\n",
       "      <td>1.010430e+09</td>\n",
       "      <td>MN15</td>\n",
       "    </tr>\n",
       "    <tr>\n",
       "      <th>1</th>\n",
       "      <td>50100420</td>\n",
       "      <td>SOHO DINER</td>\n",
       "      <td>Manhattan</td>\n",
       "      <td>320</td>\n",
       "      <td>WEST BROADWAY</td>\n",
       "      <td>10013.0</td>\n",
       "      <td>2129653091</td>\n",
       "      <td>American</td>\n",
       "      <td>01/02/2020</td>\n",
       "      <td>Violations were cited in the following area(s).</td>\n",
       "      <td>...</td>\n",
       "      <td>03/24/2022</td>\n",
       "      <td>Pre-permit (Operational) / Initial Inspection</td>\n",
       "      <td>40.721906</td>\n",
       "      <td>-74.004178</td>\n",
       "      <td>102.0</td>\n",
       "      <td>1.0</td>\n",
       "      <td>4700.0</td>\n",
       "      <td>1087764.0</td>\n",
       "      <td>1.002270e+09</td>\n",
       "      <td>MN24</td>\n",
       "    </tr>\n",
       "    <tr>\n",
       "      <th>2</th>\n",
       "      <td>41678734</td>\n",
       "      <td>TINY'S DINER</td>\n",
       "      <td>Bronx</td>\n",
       "      <td>3603</td>\n",
       "      <td>RIVERDALE AVENUE</td>\n",
       "      <td>10463.0</td>\n",
       "      <td>7187087600</td>\n",
       "      <td>American</td>\n",
       "      <td>09/23/2019</td>\n",
       "      <td>Violations were cited in the following area(s).</td>\n",
       "      <td>...</td>\n",
       "      <td>03/24/2022</td>\n",
       "      <td>Cycle Inspection / Initial Inspection</td>\n",
       "      <td>40.886691</td>\n",
       "      <td>-73.907056</td>\n",
       "      <td>208.0</td>\n",
       "      <td>11.0</td>\n",
       "      <td>29500.0</td>\n",
       "      <td>2084186.0</td>\n",
       "      <td>2.057960e+09</td>\n",
       "      <td>BX29</td>\n",
       "    </tr>\n",
       "    <tr>\n",
       "      <th>3</th>\n",
       "      <td>40795021</td>\n",
       "      <td>TAO RESTAURANT</td>\n",
       "      <td>Manhattan</td>\n",
       "      <td>42</td>\n",
       "      <td>EAST   58 STREET</td>\n",
       "      <td>10022.0</td>\n",
       "      <td>2128882288</td>\n",
       "      <td>Asian/Asian Fusion</td>\n",
       "      <td>03/11/2020</td>\n",
       "      <td>Violations were cited in the following area(s).</td>\n",
       "      <td>...</td>\n",
       "      <td>03/24/2022</td>\n",
       "      <td>Cycle Inspection / Initial Inspection</td>\n",
       "      <td>40.762786</td>\n",
       "      <td>-73.971486</td>\n",
       "      <td>105.0</td>\n",
       "      <td>4.0</td>\n",
       "      <td>11202.0</td>\n",
       "      <td>1036073.0</td>\n",
       "      <td>1.012930e+09</td>\n",
       "      <td>MN17</td>\n",
       "    </tr>\n",
       "    <tr>\n",
       "      <th>4</th>\n",
       "      <td>40795021</td>\n",
       "      <td>TAO RESTAURANT</td>\n",
       "      <td>Manhattan</td>\n",
       "      <td>42</td>\n",
       "      <td>EAST   58 STREET</td>\n",
       "      <td>10022.0</td>\n",
       "      <td>2128882288</td>\n",
       "      <td>Asian/Asian Fusion</td>\n",
       "      <td>03/11/2020</td>\n",
       "      <td>Violations were cited in the following area(s).</td>\n",
       "      <td>...</td>\n",
       "      <td>03/24/2022</td>\n",
       "      <td>Cycle Inspection / Initial Inspection</td>\n",
       "      <td>40.762786</td>\n",
       "      <td>-73.971486</td>\n",
       "      <td>105.0</td>\n",
       "      <td>4.0</td>\n",
       "      <td>11202.0</td>\n",
       "      <td>1036073.0</td>\n",
       "      <td>1.012930e+09</td>\n",
       "      <td>MN17</td>\n",
       "    </tr>\n",
       "  </tbody>\n",
       "</table>\n",
       "<p>5 rows × 26 columns</p>\n",
       "</div>"
      ],
      "text/plain": [
       "      CAMIS             DBA       BORO BUILDING            STREET  ZIPCODE  \\\n",
       "0  50008319        POULETTE  Manhattan      790          9 AVENUE  10019.0   \n",
       "1  50100420      SOHO DINER  Manhattan      320     WEST BROADWAY  10013.0   \n",
       "2  41678734    TINY'S DINER      Bronx     3603  RIVERDALE AVENUE  10463.0   \n",
       "3  40795021  TAO RESTAURANT  Manhattan       42  EAST   58 STREET  10022.0   \n",
       "4  40795021  TAO RESTAURANT  Manhattan       42  EAST   58 STREET  10022.0   \n",
       "\n",
       "        PHONE CUISINE DESCRIPTION INSPECTION DATE  \\\n",
       "0  2129569488             Chicken      01/28/2019   \n",
       "1  2129653091            American      01/02/2020   \n",
       "2  7187087600            American      09/23/2019   \n",
       "3  2128882288  Asian/Asian Fusion      03/11/2020   \n",
       "4  2128882288  Asian/Asian Fusion      03/11/2020   \n",
       "\n",
       "                                            ACTION  ... RECORD DATE  \\\n",
       "0  Violations were cited in the following area(s).  ...  03/24/2022   \n",
       "1  Violations were cited in the following area(s).  ...  03/24/2022   \n",
       "2  Violations were cited in the following area(s).  ...  03/24/2022   \n",
       "3  Violations were cited in the following area(s).  ...  03/24/2022   \n",
       "4  Violations were cited in the following area(s).  ...  03/24/2022   \n",
       "\n",
       "                                 INSPECTION TYPE   Latitude  Longitude  \\\n",
       "0          Cycle Inspection / Initial Inspection  40.765040 -73.987795   \n",
       "1  Pre-permit (Operational) / Initial Inspection  40.721906 -74.004178   \n",
       "2          Cycle Inspection / Initial Inspection  40.886691 -73.907056   \n",
       "3          Cycle Inspection / Initial Inspection  40.762786 -73.971486   \n",
       "4          Cycle Inspection / Initial Inspection  40.762786 -73.971486   \n",
       "\n",
       "  Community Board Council District Census Tract        BIN           BBL   NTA  \n",
       "0           104.0              3.0      13300.0  1025235.0  1.010430e+09  MN15  \n",
       "1           102.0              1.0       4700.0  1087764.0  1.002270e+09  MN24  \n",
       "2           208.0             11.0      29500.0  2084186.0  2.057960e+09  BX29  \n",
       "3           105.0              4.0      11202.0  1036073.0  1.012930e+09  MN17  \n",
       "4           105.0              4.0      11202.0  1036073.0  1.012930e+09  MN17  \n",
       "\n",
       "[5 rows x 26 columns]"
      ]
     },
     "execution_count": 4,
     "metadata": {},
     "output_type": "execute_result"
    }
   ],
   "source": [
    "data.head()"
   ]
  },
  {
   "cell_type": "code",
   "execution_count": 5,
   "id": "14ba0c4a",
   "metadata": {},
   "outputs": [],
   "source": [
    "data.columns = [c.replace(' ', '_') for c in data.columns]"
   ]
  },
  {
   "cell_type": "code",
   "execution_count": 6,
   "id": "129faab2",
   "metadata": {},
   "outputs": [
    {
     "name": "stdout",
     "output_type": "stream",
     "text": [
      "['CAMIS', 'DBA', 'BORO', 'BUILDING', 'STREET', 'ZIPCODE', 'PHONE', 'CUISINE_DESCRIPTION', 'INSPECTION_DATE', 'ACTION', 'VIOLATION_CODE', 'VIOLATION_DESCRIPTION', 'CRITICAL_FLAG', 'SCORE', 'GRADE', 'GRADE_DATE', 'RECORD_DATE', 'INSPECTION_TYPE', 'Latitude', 'Longitude', 'Community_Board', 'Council_District', 'Census_Tract', 'BIN', 'BBL', 'NTA']\n"
     ]
    }
   ],
   "source": [
    "print(data.columns.tolist())"
   ]
  },
  {
   "cell_type": "code",
   "execution_count": 7,
   "id": "9cd89430",
   "metadata": {},
   "outputs": [
    {
     "name": "stdout",
     "output_type": "stream",
     "text": [
      "<class 'pandas.core.frame.DataFrame'>\n",
      "RangeIndex: 327812 entries, 0 to 327811\n",
      "Data columns (total 26 columns):\n",
      " #   Column                 Non-Null Count   Dtype  \n",
      "---  ------                 --------------   -----  \n",
      " 0   CAMIS                  327812 non-null  int64  \n",
      " 1   DBA                    326509 non-null  object \n",
      " 2   BORO                   327812 non-null  object \n",
      " 3   BUILDING               327228 non-null  object \n",
      " 4   STREET                 327799 non-null  object \n",
      " 5   ZIPCODE                322825 non-null  float64\n",
      " 6   PHONE                  327784 non-null  object \n",
      " 7   CUISINE_DESCRIPTION    323843 non-null  object \n",
      " 8   INSPECTION_DATE        327812 non-null  object \n",
      " 9   ACTION                 323844 non-null  object \n",
      " 10  VIOLATION_CODE         320176 non-null  object \n",
      " 11  VIOLATION_DESCRIPTION  322139 non-null  object \n",
      " 12  CRITICAL_FLAG          327812 non-null  object \n",
      " 13  SCORE                  312629 non-null  float64\n",
      " 14  GRADE                  165640 non-null  object \n",
      " 15  GRADE_DATE             161259 non-null  object \n",
      " 16  RECORD_DATE            327812 non-null  object \n",
      " 17  INSPECTION_TYPE        323844 non-null  object \n",
      " 18  Latitude               327489 non-null  float64\n",
      " 19  Longitude              327489 non-null  float64\n",
      " 20  Community_Board        322027 non-null  float64\n",
      " 21  Council_District       322035 non-null  float64\n",
      " 22  Census_Tract           322035 non-null  float64\n",
      " 23  BIN                    320525 non-null  float64\n",
      " 24  BBL                    327001 non-null  float64\n",
      " 25  NTA                    322027 non-null  object \n",
      "dtypes: float64(9), int64(1), object(16)\n",
      "memory usage: 65.0+ MB\n"
     ]
    }
   ],
   "source": [
    "data.info()"
   ]
  },
  {
   "cell_type": "code",
   "execution_count": 12,
   "id": "f1301600",
   "metadata": {},
   "outputs": [
    {
     "data": {
      "text/html": [
       "<div>\n",
       "<style scoped>\n",
       "    .dataframe tbody tr th:only-of-type {\n",
       "        vertical-align: middle;\n",
       "    }\n",
       "\n",
       "    .dataframe tbody tr th {\n",
       "        vertical-align: top;\n",
       "    }\n",
       "\n",
       "    .dataframe thead th {\n",
       "        text-align: right;\n",
       "    }\n",
       "</style>\n",
       "<table border=\"1\" class=\"dataframe\">\n",
       "  <thead>\n",
       "    <tr style=\"text-align: right;\">\n",
       "      <th></th>\n",
       "      <th>A</th>\n",
       "      <th>B</th>\n",
       "      <th>C</th>\n",
       "      <th>P</th>\n",
       "      <th>Z</th>\n",
       "    </tr>\n",
       "    <tr>\n",
       "      <th>BORO</th>\n",
       "      <th></th>\n",
       "      <th></th>\n",
       "      <th></th>\n",
       "      <th></th>\n",
       "      <th></th>\n",
       "    </tr>\n",
       "  </thead>\n",
       "  <tbody>\n",
       "    <tr>\n",
       "      <th>Bronx</th>\n",
       "      <td>12291</td>\n",
       "      <td>2275</td>\n",
       "      <td>892</td>\n",
       "      <td>220</td>\n",
       "      <td>327</td>\n",
       "    </tr>\n",
       "    <tr>\n",
       "      <th>Brooklyn</th>\n",
       "      <td>31041</td>\n",
       "      <td>4569</td>\n",
       "      <td>1867</td>\n",
       "      <td>542</td>\n",
       "      <td>997</td>\n",
       "    </tr>\n",
       "    <tr>\n",
       "      <th>Manhattan</th>\n",
       "      <td>51478</td>\n",
       "      <td>7093</td>\n",
       "      <td>2880</td>\n",
       "      <td>655</td>\n",
       "      <td>1109</td>\n",
       "    </tr>\n",
       "    <tr>\n",
       "      <th>Queens</th>\n",
       "      <td>29819</td>\n",
       "      <td>4457</td>\n",
       "      <td>1973</td>\n",
       "      <td>464</td>\n",
       "      <td>907</td>\n",
       "    </tr>\n",
       "    <tr>\n",
       "      <th>Staten Island</th>\n",
       "      <td>4450</td>\n",
       "      <td>556</td>\n",
       "      <td>186</td>\n",
       "      <td>48</td>\n",
       "      <td>107</td>\n",
       "    </tr>\n",
       "  </tbody>\n",
       "</table>\n",
       "</div>"
      ],
      "text/plain": [
       "                   A     B     C    P     Z\n",
       "BORO                                       \n",
       "Bronx          12291  2275   892  220   327\n",
       "Brooklyn       31041  4569  1867  542   997\n",
       "Manhattan      51478  7093  2880  655  1109\n",
       "Queens         29819  4457  1973  464   907\n",
       "Staten Island   4450   556   186   48   107"
      ]
     },
     "execution_count": 12,
     "metadata": {},
     "output_type": "execute_result"
    }
   ],
   "source": [
    "bardata=data.groupby('BORO')['GRADE'].value_counts().unstack().fillna(0).astype(int)\n",
    "bardata = bardata.rename_axis(columns=None)\n",
    "bardata = bardata.drop(labels=['0'],axis=0)\n",
    "bardata = bardata.drop(columns=['G', 'N'])\n",
    "bardata # we keep only A,B,C,P,Z grade for the grade data"
   ]
  },
  {
   "cell_type": "code",
   "execution_count": 15,
   "id": "06038f31",
   "metadata": {},
   "outputs": [
    {
     "data": {
      "image/png": "[encoded data removed]",
      "text/plain": [
       "<Figure size 720x720 with 1 Axes>"
      ]
     },
     "metadata": {
      "needs_background": "light"
     },
     "output_type": "display_data"
    }
   ],
   "source": [
    "plt.figure(figsize=(10,10))\n",
    "plt.bar(bardata.index,bardata.A,color='Lightgreen')\n",
    "plt.bar(bardata.index,bardata.B,bottom=bardata.A,color='Yellow')\n",
    "plt.bar(bardata.index,bardata.C,bottom=bardata.A+bardata.B,color='Red')\n",
    "plt.xlabel('Boro')\n",
    "plt.ylabel('Counts')\n",
    "plt.title('Restaurant Grade by Boro')\n",
    "plt.legend(['A Grade','B Grade','C Grade'])\n",
    "plt.show()"
   ]
  },
  {
   "cell_type": "code",
   "execution_count": 25,
   "id": "edcfc135",
   "metadata": {},
   "outputs": [
    {
     "data": {
      "text/plain": [
       "CUISINE_DESCRIPTION\n",
       "American        3097\n",
       "Chinese         1261\n",
       "Coffee/Tea      1191\n",
       "Pizza            886\n",
       "Italian          544\n",
       "                ... \n",
       "Southwestern       2\n",
       "Czech              2\n",
       "Fusion             2\n",
       "New French         1\n",
       "Creole/Cajun       1\n",
       "Length: 84, dtype: int64"
      ]
     },
     "execution_count": 25,
     "metadata": {},
     "output_type": "execute_result"
    }
   ],
   "source": [
    "mapdata = data.drop_duplicates(subset=['CAMIS']) # Only keep unique restaurant ID\n",
    "mapdata = mapdata.dropna(subset=['GRADE','VIOLATION_DESCRIPTION','Latitude','Longitude','GRADE_DATE'])\n",
    "bardata2=mapdata.groupby([mapdata['CUISINE_DESCRIPTION']]).size().sort_values(ascending=False)\n",
    "bardata2"
   ]
  },
  {
   "cell_type": "code",
   "execution_count": 26,
   "id": "368f3f81",
   "metadata": {},
   "outputs": [
    {
     "data": {
      "image/png": "[encoded data removed]",
      "text/plain": [
       "<Figure size 576x864 with 1 Axes>"
      ]
     },
     "metadata": {
      "needs_background": "light"
     },
     "output_type": "display_data"
    }
   ],
   "source": [
    "plt.figure(figsize=(8, 12))\n",
    "bardata2[:30].sort_values(ascending=True).plot(kind='barh',legend=False)\n",
    "plt.show()"
   ]
  },
  {
   "cell_type": "code",
   "execution_count": 27,
   "id": "aa3cfc97",
   "metadata": {},
   "outputs": [
    {
     "data": {
      "text/html": [
       "<div>\n",
       "<style scoped>\n",
       "    .dataframe tbody tr th:only-of-type {\n",
       "        vertical-align: middle;\n",
       "    }\n",
       "\n",
       "    .dataframe tbody tr th {\n",
       "        vertical-align: top;\n",
       "    }\n",
       "\n",
       "    .dataframe thead th {\n",
       "        text-align: right;\n",
       "    }\n",
       "</style>\n",
       "<table border=\"1\" class=\"dataframe\">\n",
       "  <thead>\n",
       "    <tr style=\"text-align: right;\">\n",
       "      <th></th>\n",
       "      <th>CAMIS</th>\n",
       "      <th>DBA</th>\n",
       "      <th>BORO</th>\n",
       "      <th>BUILDING</th>\n",
       "      <th>STREET</th>\n",
       "      <th>ZIPCODE</th>\n",
       "      <th>PHONE</th>\n",
       "      <th>CUISINE_DESCRIPTION</th>\n",
       "      <th>INSPECTION_DATE</th>\n",
       "      <th>ACTION</th>\n",
       "      <th>...</th>\n",
       "      <th>INSPECTION_TYPE</th>\n",
       "      <th>Latitude</th>\n",
       "      <th>Longitude</th>\n",
       "      <th>Community_Board</th>\n",
       "      <th>Council_District</th>\n",
       "      <th>Census_Tract</th>\n",
       "      <th>BIN</th>\n",
       "      <th>BBL</th>\n",
       "      <th>NTA</th>\n",
       "      <th>DateTime</th>\n",
       "    </tr>\n",
       "  </thead>\n",
       "  <tbody>\n",
       "    <tr>\n",
       "      <th>0</th>\n",
       "      <td>50008319</td>\n",
       "      <td>POULETTE</td>\n",
       "      <td>Manhattan</td>\n",
       "      <td>790</td>\n",
       "      <td>9 AVENUE</td>\n",
       "      <td>10019.0</td>\n",
       "      <td>2129569488</td>\n",
       "      <td>Chicken</td>\n",
       "      <td>01/28/2019</td>\n",
       "      <td>Violations were cited in the following area(s).</td>\n",
       "      <td>...</td>\n",
       "      <td>Cycle Inspection / Initial Inspection</td>\n",
       "      <td>40.76504</td>\n",
       "      <td>-73.987795</td>\n",
       "      <td>104.0</td>\n",
       "      <td>3.0</td>\n",
       "      <td>13300.0</td>\n",
       "      <td>1025235.0</td>\n",
       "      <td>1.010430e+09</td>\n",
       "      <td>MN15</td>\n",
       "      <td>2019-01-28</td>\n",
       "    </tr>\n",
       "  </tbody>\n",
       "</table>\n",
       "<p>1 rows × 27 columns</p>\n",
       "</div>"
      ],
      "text/plain": [
       "      CAMIS       DBA       BORO BUILDING    STREET  ZIPCODE       PHONE  \\\n",
       "0  50008319  POULETTE  Manhattan      790  9 AVENUE  10019.0  2129569488   \n",
       "\n",
       "  CUISINE_DESCRIPTION INSPECTION_DATE  \\\n",
       "0             Chicken      01/28/2019   \n",
       "\n",
       "                                            ACTION  ...  \\\n",
       "0  Violations were cited in the following area(s).  ...   \n",
       "\n",
       "                         INSPECTION_TYPE  Latitude  Longitude  \\\n",
       "0  Cycle Inspection / Initial Inspection  40.76504 -73.987795   \n",
       "\n",
       "   Community_Board Council_District Census_Tract        BIN           BBL  \\\n",
       "0            104.0              3.0      13300.0  1025235.0  1.010430e+09   \n",
       "\n",
       "    NTA   DateTime  \n",
       "0  MN15 2019-01-28  \n",
       "\n",
       "[1 rows x 27 columns]"
      ]
     },
     "execution_count": 27,
     "metadata": {},
     "output_type": "execute_result"
    }
   ],
   "source": [
    "df = data.dropna(subset=['INSPECTION_DATE'])\n",
    "df['DateTime'] = pd.to_datetime(data['INSPECTION_DATE']) + pd.DateOffset(hours=0, minutes=0)\n",
    "df[:1]"
   ]
  },
  {
   "cell_type": "code",
   "execution_count": 28,
   "id": "5e406bc7",
   "metadata": {},
   "outputs": [],
   "source": [
    "df.index = pd.DatetimeIndex(df.DateTime)"
   ]
  },
  {
   "cell_type": "code",
   "execution_count": 29,
   "id": "55189799",
   "metadata": {},
   "outputs": [
    {
     "data": {
      "text/html": [
       "<div>\n",
       "<style scoped>\n",
       "    .dataframe tbody tr th:only-of-type {\n",
       "        vertical-align: middle;\n",
       "    }\n",
       "\n",
       "    .dataframe tbody tr th {\n",
       "        vertical-align: top;\n",
       "    }\n",
       "\n",
       "    .dataframe thead th {\n",
       "        text-align: right;\n",
       "    }\n",
       "</style>\n",
       "<table border=\"1\" class=\"dataframe\">\n",
       "  <thead>\n",
       "    <tr style=\"text-align: right;\">\n",
       "      <th></th>\n",
       "      <th>CAMIS</th>\n",
       "      <th>DBA</th>\n",
       "      <th>BORO</th>\n",
       "      <th>BUILDING</th>\n",
       "      <th>STREET</th>\n",
       "      <th>ZIPCODE</th>\n",
       "      <th>PHONE</th>\n",
       "      <th>CUISINE_DESCRIPTION</th>\n",
       "      <th>INSPECTION_DATE</th>\n",
       "      <th>ACTION</th>\n",
       "      <th>...</th>\n",
       "      <th>INSPECTION_TYPE</th>\n",
       "      <th>Latitude</th>\n",
       "      <th>Longitude</th>\n",
       "      <th>Community_Board</th>\n",
       "      <th>Council_District</th>\n",
       "      <th>Census_Tract</th>\n",
       "      <th>BIN</th>\n",
       "      <th>BBL</th>\n",
       "      <th>NTA</th>\n",
       "      <th>DateTime</th>\n",
       "    </tr>\n",
       "    <tr>\n",
       "      <th>DateTime</th>\n",
       "      <th></th>\n",
       "      <th></th>\n",
       "      <th></th>\n",
       "      <th></th>\n",
       "      <th></th>\n",
       "      <th></th>\n",
       "      <th></th>\n",
       "      <th></th>\n",
       "      <th></th>\n",
       "      <th></th>\n",
       "      <th></th>\n",
       "      <th></th>\n",
       "      <th></th>\n",
       "      <th></th>\n",
       "      <th></th>\n",
       "      <th></th>\n",
       "      <th></th>\n",
       "      <th></th>\n",
       "      <th></th>\n",
       "      <th></th>\n",
       "      <th></th>\n",
       "    </tr>\n",
       "  </thead>\n",
       "  <tbody>\n",
       "    <tr>\n",
       "      <th>2019-01-28</th>\n",
       "      <td>50008319</td>\n",
       "      <td>POULETTE</td>\n",
       "      <td>Manhattan</td>\n",
       "      <td>790</td>\n",
       "      <td>9 AVENUE</td>\n",
       "      <td>10019.0</td>\n",
       "      <td>2129569488</td>\n",
       "      <td>Chicken</td>\n",
       "      <td>01/28/2019</td>\n",
       "      <td>Violations were cited in the following area(s).</td>\n",
       "      <td>...</td>\n",
       "      <td>Cycle Inspection / Initial Inspection</td>\n",
       "      <td>40.765040</td>\n",
       "      <td>-73.987795</td>\n",
       "      <td>104.0</td>\n",
       "      <td>3.0</td>\n",
       "      <td>13300.0</td>\n",
       "      <td>1025235.0</td>\n",
       "      <td>1.010430e+09</td>\n",
       "      <td>MN15</td>\n",
       "      <td>2019-01-28</td>\n",
       "    </tr>\n",
       "    <tr>\n",
       "      <th>2020-01-02</th>\n",
       "      <td>50100420</td>\n",
       "      <td>SOHO DINER</td>\n",
       "      <td>Manhattan</td>\n",
       "      <td>320</td>\n",
       "      <td>WEST BROADWAY</td>\n",
       "      <td>10013.0</td>\n",
       "      <td>2129653091</td>\n",
       "      <td>American</td>\n",
       "      <td>01/02/2020</td>\n",
       "      <td>Violations were cited in the following area(s).</td>\n",
       "      <td>...</td>\n",
       "      <td>Pre-permit (Operational) / Initial Inspection</td>\n",
       "      <td>40.721906</td>\n",
       "      <td>-74.004178</td>\n",
       "      <td>102.0</td>\n",
       "      <td>1.0</td>\n",
       "      <td>4700.0</td>\n",
       "      <td>1087764.0</td>\n",
       "      <td>1.002270e+09</td>\n",
       "      <td>MN24</td>\n",
       "      <td>2020-01-02</td>\n",
       "    </tr>\n",
       "  </tbody>\n",
       "</table>\n",
       "<p>2 rows × 27 columns</p>\n",
       "</div>"
      ],
      "text/plain": [
       "               CAMIS         DBA       BORO BUILDING         STREET  ZIPCODE  \\\n",
       "DateTime                                                                       \n",
       "2019-01-28  50008319    POULETTE  Manhattan      790       9 AVENUE  10019.0   \n",
       "2020-01-02  50100420  SOHO DINER  Manhattan      320  WEST BROADWAY  10013.0   \n",
       "\n",
       "                 PHONE CUISINE_DESCRIPTION INSPECTION_DATE  \\\n",
       "DateTime                                                     \n",
       "2019-01-28  2129569488             Chicken      01/28/2019   \n",
       "2020-01-02  2129653091            American      01/02/2020   \n",
       "\n",
       "                                                     ACTION  ...  \\\n",
       "DateTime                                                     ...   \n",
       "2019-01-28  Violations were cited in the following area(s).  ...   \n",
       "2020-01-02  Violations were cited in the following area(s).  ...   \n",
       "\n",
       "                                          INSPECTION_TYPE   Latitude  \\\n",
       "DateTime                                                               \n",
       "2019-01-28          Cycle Inspection / Initial Inspection  40.765040   \n",
       "2020-01-02  Pre-permit (Operational) / Initial Inspection  40.721906   \n",
       "\n",
       "            Longitude  Community_Board Council_District Census_Tract  \\\n",
       "DateTime                                                               \n",
       "2019-01-28 -73.987795            104.0              3.0      13300.0   \n",
       "2020-01-02 -74.004178            102.0              1.0       4700.0   \n",
       "\n",
       "                  BIN           BBL   NTA   DateTime  \n",
       "DateTime                                              \n",
       "2019-01-28  1025235.0  1.010430e+09  MN15 2019-01-28  \n",
       "2020-01-02  1087764.0  1.002270e+09  MN24 2020-01-02  \n",
       "\n",
       "[2 rows x 27 columns]"
      ]
     },
     "execution_count": 29,
     "metadata": {},
     "output_type": "execute_result"
    }
   ],
   "source": [
    "df1 = df.drop((df.loc[df[\"DateTime\"]=='1900-01-01']).index)\n",
    "df1[:2] # remove wrong dates"
   ]
  },
  {
   "cell_type": "code",
   "execution_count": 30,
   "id": "23f0f1f4",
   "metadata": {},
   "outputs": [
    {
     "data": {
      "text/plain": [
       "(0.0, 1000.0)"
      ]
     },
     "execution_count": 30,
     "metadata": {},
     "output_type": "execute_result"
    },
    {
     "data": {
      "image/png": "[encoded data removed]",
      "text/plain": [
       "<Figure size 432x288 with 1 Axes>"
      ]
     },
     "metadata": {
      "needs_background": "light"
     },
     "output_type": "display_data"
    }
   ],
   "source": [
    "df1.resample('D').size().plot(legend=False)\n",
    "plt.ylim([0, 1000]) #daily inspection count"
   ]
  },
  {
   "cell_type": "code",
   "execution_count": 31,
   "id": "73b2a229",
   "metadata": {},
   "outputs": [
    {
     "data": {
      "text/plain": [
       "(0.0, 3500.0)"
      ]
     },
     "execution_count": 31,
     "metadata": {},
     "output_type": "execute_result"
    },
    {
     "data": {
      "image/png": "[encoded data removed]",
      "text/plain": [
       "<Figure size 432x288 with 1 Axes>"
      ]
     },
     "metadata": {
      "needs_background": "light"
     },
     "output_type": "display_data"
    }
   ],
   "source": [
    "df.resample('W').size().plot(legend=False)\n",
    "plt.xlim([2400, 2750])\n",
    "plt.ylim([0, 3500]) #weekly inspection count"
   ]
  },
  {
   "cell_type": "code",
   "execution_count": 32,
   "id": "bc92797f",
   "metadata": {},
   "outputs": [
    {
     "name": "stderr",
     "output_type": "stream",
     "text": [
      "/tmp/ipykernel_54/2708146150.py:9: SettingWithCopyWarning: \n",
      "A value is trying to be set on a copy of a slice from a DataFrame.\n",
      "Try using .loc[row_indexer,col_indexer] = value instead\n",
      "\n",
      "See the caveats in the documentation: https://pandas.pydata.org/pandas-docs/stable/user_guide/indexing.html#returning-a-view-versus-a-copy\n",
      "  df1['ACTION_FEEDBACK'] = np.select(conditions, feedbacks)\n"
     ]
    }
   ],
   "source": [
    "conditions = [\n",
    "             df1['ACTION'] == 'Establishment Closed by DOHMH. Violations were cited in the following area(s) and those requiring immediate action were addressed.',\n",
    "             df1['ACTION'] == 'Establishment re-closed by DOHMH.',\n",
    "             df1['ACTION'] == 'Establishment re-opened by DOHMH.',\n",
    "             df1['ACTION'] == 'No violations were recorded at the time of this inspection.',\n",
    "             df1['ACTION'] == 'Violations were cited in the following area(s).' \n",
    "             ]\n",
    "feedbacks = ['Critical_Violation', 'Establishment_Re-closed', 'Establishment_Re-opened', 'No_Violation', 'Common_Violation']\n",
    "df1['ACTION_FEEDBACK'] = np.select(conditions, feedbacks)"
   ]
  },
  {
   "cell_type": "code",
   "execution_count": 33,
   "id": "2b90b44e",
   "metadata": {},
   "outputs": [],
   "source": [
    "#df1"
   ]
  },
  {
   "cell_type": "code",
   "execution_count": 34,
   "id": "d5bb71bc",
   "metadata": {},
   "outputs": [
    {
     "data": {
      "text/plain": [
       "(0.0, 800.0)"
      ]
     },
     "execution_count": 34,
     "metadata": {},
     "output_type": "execute_result"
    },
    {
     "data": {
      "image/png": "[encoded data removed]",
      "text/plain": [
       "<Figure size 432x288 with 1 Axes>"
      ]
     },
     "metadata": {
      "needs_background": "light"
     },
     "output_type": "display_data"
    }
   ],
   "source": [
    "df1.resample('B').size().plot(legend=False)\n",
    "plt.plot()\n",
    "plt.ylim([0, 800]) #business day"
   ]
  },
  {
   "cell_type": "code",
   "execution_count": 37,
   "id": "48e6c464",
   "metadata": {},
   "outputs": [
    {
     "data": {
      "text/html": [
       "<div>\n",
       "<style scoped>\n",
       "    .dataframe tbody tr th:only-of-type {\n",
       "        vertical-align: middle;\n",
       "    }\n",
       "\n",
       "    .dataframe tbody tr th {\n",
       "        vertical-align: top;\n",
       "    }\n",
       "\n",
       "    .dataframe thead th {\n",
       "        text-align: right;\n",
       "    }\n",
       "</style>\n",
       "<table border=\"1\" class=\"dataframe\">\n",
       "  <thead>\n",
       "    <tr style=\"text-align: right;\">\n",
       "      <th></th>\n",
       "      <th>CAMIS</th>\n",
       "      <th>DBA</th>\n",
       "      <th>BORO</th>\n",
       "      <th>BUILDING</th>\n",
       "      <th>STREET</th>\n",
       "      <th>ZIPCODE</th>\n",
       "      <th>PHONE</th>\n",
       "      <th>CUISINE_DESCRIPTION</th>\n",
       "      <th>INSPECTION_DATE</th>\n",
       "      <th>ACTION</th>\n",
       "      <th>...</th>\n",
       "      <th>Latitude</th>\n",
       "      <th>Longitude</th>\n",
       "      <th>Community_Board</th>\n",
       "      <th>Council_District</th>\n",
       "      <th>Census_Tract</th>\n",
       "      <th>BIN</th>\n",
       "      <th>BBL</th>\n",
       "      <th>NTA</th>\n",
       "      <th>DateTime</th>\n",
       "      <th>ACTION_FEEDBACK</th>\n",
       "    </tr>\n",
       "    <tr>\n",
       "      <th>DateTime</th>\n",
       "      <th></th>\n",
       "      <th></th>\n",
       "      <th></th>\n",
       "      <th></th>\n",
       "      <th></th>\n",
       "      <th></th>\n",
       "      <th></th>\n",
       "      <th></th>\n",
       "      <th></th>\n",
       "      <th></th>\n",
       "      <th></th>\n",
       "      <th></th>\n",
       "      <th></th>\n",
       "      <th></th>\n",
       "      <th></th>\n",
       "      <th></th>\n",
       "      <th></th>\n",
       "      <th></th>\n",
       "      <th></th>\n",
       "      <th></th>\n",
       "      <th></th>\n",
       "    </tr>\n",
       "  </thead>\n",
       "  <tbody>\n",
       "    <tr>\n",
       "      <th>2019-01-28</th>\n",
       "      <td>50008319</td>\n",
       "      <td>POULETTE</td>\n",
       "      <td>Manhattan</td>\n",
       "      <td>790</td>\n",
       "      <td>9 AVENUE</td>\n",
       "      <td>10019.0</td>\n",
       "      <td>2129569488</td>\n",
       "      <td>Chicken</td>\n",
       "      <td>01/28/2019</td>\n",
       "      <td>Violations were cited in the following area(s).</td>\n",
       "      <td>...</td>\n",
       "      <td>40.765040</td>\n",
       "      <td>-73.987795</td>\n",
       "      <td>104.0</td>\n",
       "      <td>3.0</td>\n",
       "      <td>13300.0</td>\n",
       "      <td>1025235.0</td>\n",
       "      <td>1.010430e+09</td>\n",
       "      <td>MN15</td>\n",
       "      <td>2019-01-28</td>\n",
       "      <td>Common_Violation</td>\n",
       "    </tr>\n",
       "    <tr>\n",
       "      <th>2020-01-02</th>\n",
       "      <td>50100420</td>\n",
       "      <td>SOHO DINER</td>\n",
       "      <td>Manhattan</td>\n",
       "      <td>320</td>\n",
       "      <td>WEST BROADWAY</td>\n",
       "      <td>10013.0</td>\n",
       "      <td>2129653091</td>\n",
       "      <td>American</td>\n",
       "      <td>01/02/2020</td>\n",
       "      <td>Violations were cited in the following area(s).</td>\n",
       "      <td>...</td>\n",
       "      <td>40.721906</td>\n",
       "      <td>-74.004178</td>\n",
       "      <td>102.0</td>\n",
       "      <td>1.0</td>\n",
       "      <td>4700.0</td>\n",
       "      <td>1087764.0</td>\n",
       "      <td>1.002270e+09</td>\n",
       "      <td>MN24</td>\n",
       "      <td>2020-01-02</td>\n",
       "      <td>Common_Violation</td>\n",
       "    </tr>\n",
       "    <tr>\n",
       "      <th>2019-09-23</th>\n",
       "      <td>41678734</td>\n",
       "      <td>TINY'S DINER</td>\n",
       "      <td>Bronx</td>\n",
       "      <td>3603</td>\n",
       "      <td>RIVERDALE AVENUE</td>\n",
       "      <td>10463.0</td>\n",
       "      <td>7187087600</td>\n",
       "      <td>American</td>\n",
       "      <td>09/23/2019</td>\n",
       "      <td>Violations were cited in the following area(s).</td>\n",
       "      <td>...</td>\n",
       "      <td>40.886691</td>\n",
       "      <td>-73.907056</td>\n",
       "      <td>208.0</td>\n",
       "      <td>11.0</td>\n",
       "      <td>29500.0</td>\n",
       "      <td>2084186.0</td>\n",
       "      <td>2.057960e+09</td>\n",
       "      <td>BX29</td>\n",
       "      <td>2019-09-23</td>\n",
       "      <td>Common_Violation</td>\n",
       "    </tr>\n",
       "  </tbody>\n",
       "</table>\n",
       "<p>3 rows × 28 columns</p>\n",
       "</div>"
      ],
      "text/plain": [
       "               CAMIS           DBA       BORO BUILDING            STREET  \\\n",
       "DateTime                                                                   \n",
       "2019-01-28  50008319      POULETTE  Manhattan      790          9 AVENUE   \n",
       "2020-01-02  50100420    SOHO DINER  Manhattan      320     WEST BROADWAY   \n",
       "2019-09-23  41678734  TINY'S DINER      Bronx     3603  RIVERDALE AVENUE   \n",
       "\n",
       "            ZIPCODE       PHONE CUISINE_DESCRIPTION INSPECTION_DATE  \\\n",
       "DateTime                                                              \n",
       "2019-01-28  10019.0  2129569488             Chicken      01/28/2019   \n",
       "2020-01-02  10013.0  2129653091            American      01/02/2020   \n",
       "2019-09-23  10463.0  7187087600            American      09/23/2019   \n",
       "\n",
       "                                                     ACTION  ...   Latitude  \\\n",
       "DateTime                                                     ...              \n",
       "2019-01-28  Violations were cited in the following area(s).  ...  40.765040   \n",
       "2020-01-02  Violations were cited in the following area(s).  ...  40.721906   \n",
       "2019-09-23  Violations were cited in the following area(s).  ...  40.886691   \n",
       "\n",
       "            Longitude Community_Board  Council_District Census_Tract  \\\n",
       "DateTime                                                               \n",
       "2019-01-28 -73.987795           104.0               3.0      13300.0   \n",
       "2020-01-02 -74.004178           102.0               1.0       4700.0   \n",
       "2019-09-23 -73.907056           208.0              11.0      29500.0   \n",
       "\n",
       "                  BIN           BBL   NTA   DateTime   ACTION_FEEDBACK  \n",
       "DateTime                                                                \n",
       "2019-01-28  1025235.0  1.010430e+09  MN15 2019-01-28  Common_Violation  \n",
       "2020-01-02  1087764.0  1.002270e+09  MN24 2020-01-02  Common_Violation  \n",
       "2019-09-23  2084186.0  2.057960e+09  BX29 2019-09-23  Common_Violation  \n",
       "\n",
       "[3 rows x 28 columns]"
      ]
     },
     "execution_count": 37,
     "metadata": {},
     "output_type": "execute_result"
    }
   ],
   "source": [
    "start_date = '2016-01-01'\n",
    "df_after_2016 = df1.loc[df1['DateTime']>start_date]\n",
    "df_after_2016[:3]"
   ]
  },
  {
   "cell_type": "code",
   "execution_count": 38,
   "id": "709f939f",
   "metadata": {},
   "outputs": [
    {
     "data": {
      "text/plain": [
       "(0.0, 1000.0)"
      ]
     },
     "execution_count": 38,
     "metadata": {},
     "output_type": "execute_result"
    },
    {
     "data": {
      "image/png": "[encoded data removed]",
      "text/plain": [
       "<Figure size 432x288 with 1 Axes>"
      ]
     },
     "metadata": {
      "needs_background": "light"
     },
     "output_type": "display_data"
    }
   ],
   "source": [
    "df_after_2016.resample('B').size().rolling(30,min_periods=1).mean().plot(legend=False)\n",
    "plt.plot()\n",
    "plt.ylim([0, 1000]) # smooth the noises"
   ]
  },
  {
   "cell_type": "code",
   "execution_count": 39,
   "id": "a351a0e5",
   "metadata": {},
   "outputs": [],
   "source": [
    "#df_vio_III = df_after_2015[df_after_2015['df_after_2015'] == 'Type_III_Violation']\n",
    "df_vio_type = pd.crosstab(df_after_2016.DateTime, df_after_2016.ACTION_FEEDBACK)\n",
    "df_vio_type['Total'] = df_vio_type['Common_Violation']+df_vio_type['Critical_Violation']+df_vio_type['Establishment_Re-closed']+df_vio_type['Establishment_Re-opened']+df_vio_type['No_Violation']\n",
    "df_vio_type['Critical_Violation_Rate']=(df_vio_type['Critical_Violation']+df_vio_type['Establishment_Re-closed'])/df_vio_type['Total']"
   ]
  },
  {
   "cell_type": "code",
   "execution_count": 41,
   "id": "d8c52679",
   "metadata": {},
   "outputs": [
    {
     "data": {
      "text/html": [
       "<div>\n",
       "<style scoped>\n",
       "    .dataframe tbody tr th:only-of-type {\n",
       "        vertical-align: middle;\n",
       "    }\n",
       "\n",
       "    .dataframe tbody tr th {\n",
       "        vertical-align: top;\n",
       "    }\n",
       "\n",
       "    .dataframe thead th {\n",
       "        text-align: right;\n",
       "    }\n",
       "</style>\n",
       "<table border=\"1\" class=\"dataframe\">\n",
       "  <thead>\n",
       "    <tr style=\"text-align: right;\">\n",
       "      <th>ACTION_FEEDBACK</th>\n",
       "      <th>Common_Violation</th>\n",
       "      <th>Critical_Violation</th>\n",
       "      <th>Establishment_Re-closed</th>\n",
       "      <th>Establishment_Re-opened</th>\n",
       "      <th>No_Violation</th>\n",
       "      <th>Total</th>\n",
       "      <th>Critical_Violation_Rate</th>\n",
       "    </tr>\n",
       "    <tr>\n",
       "      <th>DateTime</th>\n",
       "      <th></th>\n",
       "      <th></th>\n",
       "      <th></th>\n",
       "      <th></th>\n",
       "      <th></th>\n",
       "      <th></th>\n",
       "      <th></th>\n",
       "    </tr>\n",
       "  </thead>\n",
       "  <tbody>\n",
       "    <tr>\n",
       "      <th>2016-01-07</th>\n",
       "      <td>3</td>\n",
       "      <td>0</td>\n",
       "      <td>0</td>\n",
       "      <td>0</td>\n",
       "      <td>0</td>\n",
       "      <td>3</td>\n",
       "      <td>0.0</td>\n",
       "    </tr>\n",
       "    <tr>\n",
       "      <th>2016-01-19</th>\n",
       "      <td>2</td>\n",
       "      <td>0</td>\n",
       "      <td>0</td>\n",
       "      <td>0</td>\n",
       "      <td>0</td>\n",
       "      <td>2</td>\n",
       "      <td>0.0</td>\n",
       "    </tr>\n",
       "    <tr>\n",
       "      <th>2016-01-21</th>\n",
       "      <td>5</td>\n",
       "      <td>0</td>\n",
       "      <td>0</td>\n",
       "      <td>0</td>\n",
       "      <td>0</td>\n",
       "      <td>5</td>\n",
       "      <td>0.0</td>\n",
       "    </tr>\n",
       "    <tr>\n",
       "      <th>2016-01-30</th>\n",
       "      <td>0</td>\n",
       "      <td>0</td>\n",
       "      <td>0</td>\n",
       "      <td>0</td>\n",
       "      <td>1</td>\n",
       "      <td>1</td>\n",
       "      <td>0.0</td>\n",
       "    </tr>\n",
       "    <tr>\n",
       "      <th>2016-02-05</th>\n",
       "      <td>1</td>\n",
       "      <td>0</td>\n",
       "      <td>0</td>\n",
       "      <td>0</td>\n",
       "      <td>0</td>\n",
       "      <td>1</td>\n",
       "      <td>0.0</td>\n",
       "    </tr>\n",
       "  </tbody>\n",
       "</table>\n",
       "</div>"
      ],
      "text/plain": [
       "ACTION_FEEDBACK  Common_Violation  Critical_Violation  \\\n",
       "DateTime                                                \n",
       "2016-01-07                      3                   0   \n",
       "2016-01-19                      2                   0   \n",
       "2016-01-21                      5                   0   \n",
       "2016-01-30                      0                   0   \n",
       "2016-02-05                      1                   0   \n",
       "\n",
       "ACTION_FEEDBACK  Establishment_Re-closed  Establishment_Re-opened  \\\n",
       "DateTime                                                            \n",
       "2016-01-07                             0                        0   \n",
       "2016-01-19                             0                        0   \n",
       "2016-01-21                             0                        0   \n",
       "2016-01-30                             0                        0   \n",
       "2016-02-05                             0                        0   \n",
       "\n",
       "ACTION_FEEDBACK  No_Violation  Total  Critical_Violation_Rate  \n",
       "DateTime                                                       \n",
       "2016-01-07                  0      3                      0.0  \n",
       "2016-01-19                  0      2                      0.0  \n",
       "2016-01-21                  0      5                      0.0  \n",
       "2016-01-30                  1      1                      0.0  \n",
       "2016-02-05                  0      1                      0.0  "
      ]
     },
     "execution_count": 41,
     "metadata": {},
     "output_type": "execute_result"
    }
   ],
   "source": [
    "df_vio_type.head()"
   ]
  },
  {
   "cell_type": "code",
   "execution_count": 42,
   "id": "a23c1e61",
   "metadata": {},
   "outputs": [
    {
     "data": {
      "text/plain": [
       "(0.0, 800.0)"
      ]
     },
     "execution_count": 42,
     "metadata": {},
     "output_type": "execute_result"
    },
    {
     "data": {
      "image/png": "[encoded data removed]",
      "text/plain": [
       "<Figure size 432x288 with 1 Axes>"
      ]
     },
     "metadata": {
      "needs_background": "light"
     },
     "output_type": "display_data"
    }
   ],
   "source": [
    "df_after_2016.resample('B').size().rolling(7).mean().plot()\n",
    "plt.ylim(0,800)"
   ]
  },
  {
   "cell_type": "code",
   "execution_count": 43,
   "id": "5da687f7",
   "metadata": {},
   "outputs": [
    {
     "data": {
      "text/plain": [
       "<AxesSubplot:title={'center':'Establishmen Condition'}, xlabel='DateTime'>"
      ]
     },
     "execution_count": 43,
     "metadata": {},
     "output_type": "execute_result"
    },
    {
     "data": {
      "image/png": "[encoded data removed]",
      "text/plain": [
       "<Figure size 432x288 with 1 Axes>"
      ]
     },
     "metadata": {
      "needs_background": "light"
     },
     "output_type": "display_data"
    }
   ],
   "source": [
    "df_vio_type[['Establishment_Re-closed','Establishment_Re-opened']].rolling(30).mean().plot(title = 'Establishmen Condition')"
   ]
  },
  {
   "cell_type": "code",
   "execution_count": 44,
   "id": "24b06b37",
   "metadata": {},
   "outputs": [
    {
     "data": {
      "image/png": "[encoded data removed]",
      "text/plain": [
       "<Figure size 432x288 with 1 Axes>"
      ]
     },
     "metadata": {
      "needs_background": "light"
     },
     "output_type": "display_data"
    }
   ],
   "source": [
    "df_vio_type[['Critical_Violation', 'No_Violation', 'Common_Violation']].rolling(30).mean().plot(title = 'Types of Violation')\n",
    "plt.show()"
   ]
  },
  {
   "cell_type": "code",
   "execution_count": 45,
   "id": "23ffeeaf",
   "metadata": {},
   "outputs": [],
   "source": [
    "df_filtered = df_vio_type[df_vio_type['Total'] >= 30] #don't count rates if the inspection count is lower than 30"
   ]
  },
  {
   "cell_type": "code",
   "execution_count": 46,
   "id": "8c090568",
   "metadata": {},
   "outputs": [],
   "source": [
    "df_filtered = df_filtered.reset_index()"
   ]
  },
  {
   "cell_type": "code",
   "execution_count": 47,
   "id": "779d202e",
   "metadata": {},
   "outputs": [
    {
     "data": {
      "image/png": "[encoded data removed]",
      "text/plain": [
       "<Figure size 432x576 with 1 Axes>"
      ]
     },
     "metadata": {
      "needs_background": "light"
     },
     "output_type": "display_data"
    }
   ],
   "source": [
    "df_filtered[['Critical_Violation_Rate']].rolling(30).mean().plot(figsize=(6,8))\n",
    "plt.ylim(0,0.1)\n",
    "plt.show()"
   ]
  },
  {
   "cell_type": "code",
   "execution_count": null,
   "id": "82dd5078",
   "metadata": {},
   "outputs": [],
   "source": []
  },
  {
   "cell_type": "code",
   "execution_count": null,
   "id": "2196bac5",
   "metadata": {},
   "outputs": [],
   "source": []
  }
 ],
 "metadata": {
  "kernelspec": {
   "display_name": "Python 3 (ipykernel)",
   "language": "python",
   "name": "python3"
  },
  "language_info": {
   "codemirror_mode": {
    "name": "ipython",
    "version": 3
   },
   "file_extension": ".py",
   "mimetype": "text/x-python",
   "name": "python",
   "nbconvert_exporter": "python",
   "pygments_lexer": "ipython3",
   "version": "3.9.6"
  }
 },
 "nbformat": 4,
 "nbformat_minor": 5
}
