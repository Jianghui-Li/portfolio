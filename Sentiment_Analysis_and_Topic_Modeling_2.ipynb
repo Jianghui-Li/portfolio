{
  "nbformat": 4,
  "nbformat_minor": 0,
  "metadata": {
    "colab": {
      "name": "Sentiment Analysis and Topic Modeling.ipynb",
      "provenance": [],
      "collapsed_sections": []
    },
    "kernelspec": {
      "name": "python3",
      "display_name": "Python 3"
    },
    "language_info": {
      "name": "python"
    }
  },
  "cells": [
    {
      "cell_type": "code",
      "execution_count": null,
      "metadata": {
        "id": "ZCRUXAVZPlYN"
      },
      "outputs": [],
      "source": [
        "import tensorflow\n",
        "from tensorflow.keras.preprocessing.text import Tokenizer\n",
        "from tensorflow.keras.preprocessing.sequence import pad_sequences\n",
        "from tensorflow.keras.models import Sequential\n",
        "from tensorflow.keras.layers import LSTM,Dense, Dropout, SpatialDropout1D\n",
        "from tensorflow.keras.layers import Embedding\n",
        "import matplotlib.pyplot as plt"
      ]
    },
    {
      "cell_type": "code",
      "source": [
        "from google.colab import files\n",
        "import pandas as pd"
      ],
      "metadata": {
        "id": "vkTMEuu-A8Yi"
      },
      "execution_count": null,
      "outputs": []
    },
    {
      "cell_type": "code",
      "source": [
        "uploaded = files.upload()"
      ],
      "metadata": {
        "colab": {
          "resources": {
            "http://localhost:8080/nbextensions/google.colab/files.js": {
              "data": "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",
              "ok": true,
              "headers": [
                [
                  "content-type",
                  "application/javascript"
                ]
              ],
              "status": 200,
              "status_text": ""
            }
          },
          "base_uri": "https://localhost:8080/",
          "height": 73
        },
        "id": "MmmvfDRhBW9k",
        "outputId": "9ebdfc84-7762-4c46-aed0-96e2f792d6a0"
      },
      "execution_count": null,
      "outputs": [
        {
          "output_type": "display_data",
          "data": {
            "text/plain": [
              "<IPython.core.display.HTML object>"
            ],
            "text/html": [
              "\n",
              "     <input type=\"file\" id=\"files-8fb095d2-b68f-456e-8132-b24f09e0b33e\" name=\"files[]\" multiple disabled\n",
              "        style=\"border:none\" />\n",
              "     <output id=\"result-8fb095d2-b68f-456e-8132-b24f09e0b33e\">\n",
              "      Upload widget is only available when the cell has been executed in the\n",
              "      current browser session. Please rerun this cell to enable.\n",
              "      </output>\n",
              "      <script src=\"/nbextensions/google.colab/files.js\"></script> "
            ]
          },
          "metadata": {}
        },
        {
          "output_type": "stream",
          "name": "stdout",
          "text": [
            "Saving fox.csv to fox.csv\n"
          ]
        }
      ]
    },
    {
      "cell_type": "code",
      "source": [
        "df = pd.read_csv('fox.csv')"
      ],
      "metadata": {
        "id": "j9NqovVHBW_u"
      },
      "execution_count": null,
      "outputs": []
    },
    {
      "cell_type": "code",
      "source": [
        "df[['text','label']].head()"
      ],
      "metadata": {
        "colab": {
          "base_uri": "https://localhost:8080/",
          "height": 206
        },
        "id": "PVhGk1OWBXCW",
        "outputId": "9a484f56-a289-4516-dc04-9fe84fe700bc"
      },
      "execution_count": null,
      "outputs": [
        {
          "output_type": "execute_result",
          "data": {
            "text/plain": [
              "                                                text label\n",
              "0  Ukrainian President Volodymyr Zelenskyy is exp...   pos\n",
              "1  Biden admin worries about potential escalation...   pos\n",
              "2  Hageman spotlights Cheney's roots in Northern ...   pos\n",
              "3  Lorie Smith says Colorado is violating her Fir...   pos\n",
              "4  Delaware resident says law that takes effect t...   pos"
            ],
            "text/html": [
              "\n",
              "  <div id=\"df-d8a00035-f316-4224-8bb7-c164203798dd\">\n",
              "    <div class=\"colab-df-container\">\n",
              "      <div>\n",
              "<style scoped>\n",
              "    .dataframe tbody tr th:only-of-type {\n",
              "        vertical-align: middle;\n",
              "    }\n",
              "\n",
              "    .dataframe tbody tr th {\n",
              "        vertical-align: top;\n",
              "    }\n",
              "\n",
              "    .dataframe thead th {\n",
              "        text-align: right;\n",
              "    }\n",
              "</style>\n",
              "<table border=\"1\" class=\"dataframe\">\n",
              "  <thead>\n",
              "    <tr style=\"text-align: right;\">\n",
              "      <th></th>\n",
              "      <th>text</th>\n",
              "      <th>label</th>\n",
              "    </tr>\n",
              "  </thead>\n",
              "  <tbody>\n",
              "    <tr>\n",
              "      <th>0</th>\n",
              "      <td>Ukrainian President Volodymyr Zelenskyy is exp...</td>\n",
              "      <td>pos</td>\n",
              "    </tr>\n",
              "    <tr>\n",
              "      <th>1</th>\n",
              "      <td>Biden admin worries about potential escalation...</td>\n",
              "      <td>pos</td>\n",
              "    </tr>\n",
              "    <tr>\n",
              "      <th>2</th>\n",
              "      <td>Hageman spotlights Cheney's roots in Northern ...</td>\n",
              "      <td>pos</td>\n",
              "    </tr>\n",
              "    <tr>\n",
              "      <th>3</th>\n",
              "      <td>Lorie Smith says Colorado is violating her Fir...</td>\n",
              "      <td>pos</td>\n",
              "    </tr>\n",
              "    <tr>\n",
              "      <th>4</th>\n",
              "      <td>Delaware resident says law that takes effect t...</td>\n",
              "      <td>pos</td>\n",
              "    </tr>\n",
              "  </tbody>\n",
              "</table>\n",
              "</div>\n",
              "      <button class=\"colab-df-convert\" onclick=\"convertToInteractive('df-d8a00035-f316-4224-8bb7-c164203798dd')\"\n",
              "              title=\"Convert this dataframe to an interactive table.\"\n",
              "              style=\"display:none;\">\n",
              "        \n",
              "  <svg xmlns=\"http://www.w3.org/2000/svg\" height=\"24px\"viewBox=\"0 0 24 24\"\n",
              "       width=\"24px\">\n",
              "    <path d=\"M0 0h24v24H0V0z\" fill=\"none\"/>\n",
              "    <path d=\"M18.56 5.44l.94 2.06.94-2.06 2.06-.94-2.06-.94-.94-2.06-.94 2.06-2.06.94zm-11 1L8.5 8.5l.94-2.06 2.06-.94-2.06-.94L8.5 2.5l-.94 2.06-2.06.94zm10 10l.94 2.06.94-2.06 2.06-.94-2.06-.94-.94-2.06-.94 2.06-2.06.94z\"/><path d=\"M17.41 7.96l-1.37-1.37c-.4-.4-.92-.59-1.43-.59-.52 0-1.04.2-1.43.59L10.3 9.45l-7.72 7.72c-.78.78-.78 2.05 0 2.83L4 21.41c.39.39.9.59 1.41.59.51 0 1.02-.2 1.41-.59l7.78-7.78 2.81-2.81c.8-.78.8-2.07 0-2.86zM5.41 20L4 18.59l7.72-7.72 1.47 1.35L5.41 20z\"/>\n",
              "  </svg>\n",
              "      </button>\n",
              "      \n",
              "  <style>\n",
              "    .colab-df-container {\n",
              "      display:flex;\n",
              "      flex-wrap:wrap;\n",
              "      gap: 12px;\n",
              "    }\n",
              "\n",
              "    .colab-df-convert {\n",
              "      background-color: #E8F0FE;\n",
              "      border: none;\n",
              "      border-radius: 50%;\n",
              "      cursor: pointer;\n",
              "      display: none;\n",
              "      fill: #1967D2;\n",
              "      height: 32px;\n",
              "      padding: 0 0 0 0;\n",
              "      width: 32px;\n",
              "    }\n",
              "\n",
              "    .colab-df-convert:hover {\n",
              "      background-color: #E2EBFA;\n",
              "      box-shadow: 0px 1px 2px rgba(60, 64, 67, 0.3), 0px 1px 3px 1px rgba(60, 64, 67, 0.15);\n",
              "      fill: #174EA6;\n",
              "    }\n",
              "\n",
              "    [theme=dark] .colab-df-convert {\n",
              "      background-color: #3B4455;\n",
              "      fill: #D2E3FC;\n",
              "    }\n",
              "\n",
              "    [theme=dark] .colab-df-convert:hover {\n",
              "      background-color: #434B5C;\n",
              "      box-shadow: 0px 1px 3px 1px rgba(0, 0, 0, 0.15);\n",
              "      filter: drop-shadow(0px 1px 2px rgba(0, 0, 0, 0.3));\n",
              "      fill: #FFFFFF;\n",
              "    }\n",
              "  </style>\n",
              "\n",
              "      <script>\n",
              "        const buttonEl =\n",
              "          document.querySelector('#df-d8a00035-f316-4224-8bb7-c164203798dd button.colab-df-convert');\n",
              "        buttonEl.style.display =\n",
              "          google.colab.kernel.accessAllowed ? 'block' : 'none';\n",
              "\n",
              "        async function convertToInteractive(key) {\n",
              "          const element = document.querySelector('#df-d8a00035-f316-4224-8bb7-c164203798dd');\n",
              "          const dataTable =\n",
              "            await google.colab.kernel.invokeFunction('convertToInteractive',\n",
              "                                                     [key], {});\n",
              "          if (!dataTable) return;\n",
              "\n",
              "          const docLinkHtml = 'Like what you see? Visit the ' +\n",
              "            '<a target=\"_blank\" href=https://colab.research.google.com/notebooks/data_table.ipynb>data table notebook</a>'\n",
              "            + ' to learn more about interactive tables.';\n",
              "          element.innerHTML = '';\n",
              "          dataTable['output_type'] = 'display_data';\n",
              "          await google.colab.output.renderOutput(dataTable, element);\n",
              "          const docLink = document.createElement('div');\n",
              "          docLink.innerHTML = docLinkHtml;\n",
              "          element.appendChild(docLink);\n",
              "        }\n",
              "      </script>\n",
              "    </div>\n",
              "  </div>\n",
              "  "
            ]
          },
          "metadata": {},
          "execution_count": 62
        }
      ]
    },
    {
      "cell_type": "code",
      "source": [
        "sentiment_label = df.label.factorize()\n",
        "sentiment_label # pos is 0, neg is 1"
      ],
      "metadata": {
        "colab": {
          "base_uri": "https://localhost:8080/"
        },
        "id": "wWUHFX9tBXE9",
        "outputId": "89914fd2-206f-431a-f04f-0acfd08bcd22"
      },
      "execution_count": null,
      "outputs": [
        {
          "output_type": "execute_result",
          "data": {
            "text/plain": [
              "(array([0, 0, 0, ..., 0, 0, 0]), Index(['pos', 'neg'], dtype='object'))"
            ]
          },
          "metadata": {},
          "execution_count": 8
        }
      ]
    },
    {
      "cell_type": "code",
      "source": [
        "news = df.text.values"
      ],
      "metadata": {
        "id": "wgE7ecuFBXIQ"
      },
      "execution_count": null,
      "outputs": []
    },
    {
      "cell_type": "code",
      "source": [
        "tokenizer = Tokenizer(num_words=5000)\n",
        "tokenizer.fit_on_texts(news)"
      ],
      "metadata": {
        "id": "DYZXcYphBXK1"
      },
      "execution_count": null,
      "outputs": []
    },
    {
      "cell_type": "code",
      "source": [
        "encoded_docs = tokenizer.texts_to_sequences(news) # Replace the words with their assigned numbers using the text_to_sequence()"
      ],
      "metadata": {
        "id": "e8YOwKwUBXNT"
      },
      "execution_count": null,
      "outputs": []
    },
    {
      "cell_type": "code",
      "source": [
        "padded_sequence = pad_sequences(encoded_docs, maxlen=200)\n",
        "padded_sequence # Use padding to pad the sentences to have equal length."
      ],
      "metadata": {
        "colab": {
          "base_uri": "https://localhost:8080/"
        },
        "id": "1JVp4IprDG5A",
        "outputId": "a21cf1e1-93d6-4146-b7b5-8d450cb17ae2"
      },
      "execution_count": null,
      "outputs": [
        {
          "output_type": "execute_result",
          "data": {
            "text/plain": [
              "array([[ 276,  450,   22, ...,   22,  109,   53],\n",
              "       [  12,    1,  404, ...,   22,  109,   53],\n",
              "       [  13,  248,  181, ...,   10, 1144, 1709],\n",
              "       ...,\n",
              "       [   1,  122,   76, ..., 2037,   82,  996],\n",
              "       [  12,    6, 3414, ...,   43,  544,  345],\n",
              "       [  38,  501,    6, ...,  521,   11,   53]], dtype=int32)"
            ]
          },
          "metadata": {},
          "execution_count": 47
        }
      ]
    },
    {
      "cell_type": "code",
      "source": [
        "vocab_size = len(tokenizer.word_index) + 1\n",
        "vocab_size"
      ],
      "metadata": {
        "colab": {
          "base_uri": "https://localhost:8080/"
        },
        "id": "8qekGE6qDS6l",
        "outputId": "5e7ddab9-512b-4435-a4ef-e5523ead48c6"
      },
      "execution_count": null,
      "outputs": [
        {
          "output_type": "execute_result",
          "data": {
            "text/plain": [
              "44638"
            ]
          },
          "metadata": {},
          "execution_count": 50
        }
      ]
    },
    {
      "cell_type": "code",
      "source": [
        "# Build the text classifier\n",
        "embedding_vector_length = 32\n",
        "model = Sequential()\n",
        "model.add(Embedding(vocab_size, embedding_vector_length, input_length=200))\n",
        "model.add(SpatialDropout1D(0.5))\n",
        "model.add(LSTM(50, dropout=0.5, recurrent_dropout=0.5))\n",
        "model.add(Dropout(0.2))\n",
        "model.add(Dense(1, activation='sigmoid'))\n",
        "model.compile(loss='binary_crossentropy',optimizer='adam', metrics=['accuracy'])\n",
        "print(model.summary())"
      ],
      "metadata": {
        "colab": {
          "base_uri": "https://localhost:8080/"
        },
        "id": "mHp_krl8DG7A",
        "outputId": "ff173c7f-c787-486d-8a26-1b62e830c8f4"
      },
      "execution_count": null,
      "outputs": [
        {
          "output_type": "stream",
          "name": "stdout",
          "text": [
            "Model: \"sequential_5\"\n",
            "_________________________________________________________________\n",
            " Layer (type)                Output Shape              Param #   \n",
            "=================================================================\n",
            " embedding_4 (Embedding)     (None, 200, 32)           1428416   \n",
            "                                                                 \n",
            " spatial_dropout1d_4 (Spatia  (None, 200, 32)          0         \n",
            " lDropout1D)                                                     \n",
            "                                                                 \n",
            " lstm_4 (LSTM)               (None, 50)                16600     \n",
            "                                                                 \n",
            " dropout_4 (Dropout)         (None, 50)                0         \n",
            "                                                                 \n",
            " dense_4 (Dense)             (None, 1)                 51        \n",
            "                                                                 \n",
            "=================================================================\n",
            "Total params: 1,445,067\n",
            "Trainable params: 1,445,067\n",
            "Non-trainable params: 0\n",
            "_________________________________________________________________\n",
            "None\n"
          ]
        }
      ]
    },
    {
      "cell_type": "code",
      "source": [
        "history = model.fit(padded_sequence,sentiment_label[0],validation_split=0.2, epochs=5, batch_size=32) # Train the model"
      ],
      "metadata": {
        "colab": {
          "base_uri": "https://localhost:8080/"
        },
        "id": "K4_NR1j-DG89",
        "outputId": "9361ad28-813d-41ab-ff4d-297e443adb37"
      },
      "execution_count": null,
      "outputs": [
        {
          "output_type": "stream",
          "name": "stdout",
          "text": [
            "Epoch 1/5\n",
            "89/89 [==============================] - 24s 236ms/step - loss: 0.5306 - accuracy: 0.8045 - val_loss: 0.4266 - val_accuracy: 0.8515\n",
            "Epoch 2/5\n",
            "89/89 [==============================] - 21s 235ms/step - loss: 0.4782 - accuracy: 0.8126 - val_loss: 0.4157 - val_accuracy: 0.8515\n",
            "Epoch 3/5\n",
            "89/89 [==============================] - 21s 232ms/step - loss: 0.4167 - accuracy: 0.8257 - val_loss: 0.4467 - val_accuracy: 0.8331\n",
            "Epoch 4/5\n",
            "89/89 [==============================] - 22s 243ms/step - loss: 0.3302 - accuracy: 0.8688 - val_loss: 0.4799 - val_accuracy: 0.8218\n",
            "Epoch 5/5\n",
            "89/89 [==============================] - 22s 253ms/step - loss: 0.2544 - accuracy: 0.9028 - val_loss: 0.5074 - val_accuracy: 0.8487\n"
          ]
        }
      ]
    },
    {
      "cell_type": "code",
      "source": [
        "plt.plot(history.history['accuracy'], label='acc')\n",
        "plt.plot(history.history['val_accuracy'], label='val_acc')\n",
        "plt.legend()\n",
        "plt.ylim(0,1)\n",
        "plt.show()"
      ],
      "metadata": {
        "colab": {
          "base_uri": "https://localhost:8080/",
          "height": 269
        },
        "id": "qvU-HPAMDawb",
        "outputId": "24907155-e58c-48bf-964d-644e1c8a2a15"
      },
      "execution_count": null,
      "outputs": [
        {
          "output_type": "display_data",
          "data": {
            "text/plain": [
              "<Figure size 432x288 with 1 Axes>"
            ],
            "image/png": "[encoded data removed]"
          },
          "metadata": {
            "needs_background": "light"
          }
        }
      ]
    },
    {
      "cell_type": "code",
      "source": [
        "plt.plot(history.history['loss'], label='loss')\n",
        "plt.plot(history.history['val_loss'], label='val_loss')\n",
        "plt.legend()\n",
        "plt.ylim(0,1)\n",
        "plt.show()"
      ],
      "metadata": {
        "colab": {
          "base_uri": "https://localhost:8080/",
          "height": 269
        },
        "id": "Rb13wnP-DazN",
        "outputId": "c662adeb-bec4-4ca2-dcc8-ec9f6d90d1ad"
      },
      "execution_count": null,
      "outputs": [
        {
          "output_type": "display_data",
          "data": {
            "text/plain": [
              "<Figure size 432x288 with 1 Axes>"
            ],
            "image/png": "[encoded data removed]"
          },
          "metadata": {
            "needs_background": "light"
          }
        }
      ]
    },
    {
      "cell_type": "code",
      "source": [
        ""
      ],
      "metadata": {
        "id": "cH1StIIeMksp"
      },
      "execution_count": null,
      "outputs": []
    },
    {
      "cell_type": "code",
      "source": [
        "import gensim\n",
        "from gensim.utils import simple_preprocess\n",
        "from gensim.parsing.preprocessing import STOPWORDS\n",
        "from nltk.stem import WordNetLemmatizer, SnowballStemmer\n",
        "from nltk.stem.porter import *\n",
        "import numpy as np\n",
        "np.random.seed(2018)\n",
        "import nltk\n",
        "nltk.download('wordnet')"
      ],
      "metadata": {
        "id": "TlY0POuhDa1z",
        "colab": {
          "base_uri": "https://localhost:8080/"
        },
        "outputId": "4a5a153c-2b7f-4339-9a2d-cd6164df8e2a"
      },
      "execution_count": null,
      "outputs": [
        {
          "output_type": "stream",
          "name": "stdout",
          "text": [
            "[nltk_data] Downloading package wordnet to /root/nltk_data...\n",
            "[nltk_data]   Package wordnet is already up-to-date!\n"
          ]
        },
        {
          "output_type": "execute_result",
          "data": {
            "text/plain": [
              "True"
            ]
          },
          "metadata": {},
          "execution_count": 26
        }
      ]
    },
    {
      "cell_type": "code",
      "source": [
        "data_text = df[['text']]\n",
        "data_text['index'] = data_text.index\n",
        "documents = data_text"
      ],
      "metadata": {
        "colab": {
          "base_uri": "https://localhost:8080/"
        },
        "id": "ZLgpH1WTQveZ",
        "outputId": "34158abe-c54f-43e0-aab2-561f7cf2346f"
      },
      "execution_count": null,
      "outputs": [
        {
          "output_type": "stream",
          "name": "stderr",
          "text": [
            "/usr/local/lib/python3.7/dist-packages/ipykernel_launcher.py:2: SettingWithCopyWarning: \n",
            "A value is trying to be set on a copy of a slice from a DataFrame.\n",
            "Try using .loc[row_indexer,col_indexer] = value instead\n",
            "\n",
            "See the caveats in the documentation: https://pandas.pydata.org/pandas-docs/stable/user_guide/indexing.html#returning-a-view-versus-a-copy\n",
            "  \n"
          ]
        }
      ]
    },
    {
      "cell_type": "code",
      "source": [
        "def lemmatize_stemming(text):\n",
        "    return WordNetLemmatizer().lemmatize(text, pos='v')\n",
        "def preprocess(text):\n",
        "    result = []\n",
        "    for token in gensim.utils.simple_preprocess(text):\n",
        "        if token not in gensim.parsing.preprocessing.STOPWORDS and len(token) > 3:\n",
        "            result.append(lemmatize_stemming(token))\n",
        "    return result"
      ],
      "metadata": {
        "id": "wIvY_ZnmDa4a"
      },
      "execution_count": null,
      "outputs": []
    },
    {
      "cell_type": "code",
      "source": [
        "documents"
      ],
      "metadata": {
        "colab": {
          "base_uri": "https://localhost:8080/",
          "height": 424
        },
        "id": "22OZmRcTRZbh",
        "outputId": "24847b84-686b-4464-8b6c-b719d24253f7"
      },
      "execution_count": null,
      "outputs": [
        {
          "output_type": "execute_result",
          "data": {
            "text/plain": [
              "                                                   text  index\n",
              "0     Ukrainian President Volodymyr Zelenskyy is exp...      0\n",
              "1     Biden admin worries about potential escalation...      1\n",
              "2     Hageman spotlights Cheney's roots in Northern ...      2\n",
              "3     Lorie Smith says Colorado is violating her Fir...      3\n",
              "4     Delaware resident says law that takes effect t...      4\n",
              "...                                                 ...    ...\n",
              "3530  The rule is part of a growing trend to curb at...   3530\n",
              "3531  San Francisco is 'doomed' with Chesa Boudin as...   3531\n",
              "3532  RaeAnn Ensworth said of police, 'I have always...   3532\n",
              "3533  House GOP leader Kevin McCarthy in August pred...   3533\n",
              "3534  Progressives failed on their biggest policy go...   3534\n",
              "\n",
              "[3535 rows x 2 columns]"
            ],
            "text/html": [
              "\n",
              "  <div id=\"df-d75fe7ec-1e8c-4825-b840-40c1c833cee1\">\n",
              "    <div class=\"colab-df-container\">\n",
              "      <div>\n",
              "<style scoped>\n",
              "    .dataframe tbody tr th:only-of-type {\n",
              "        vertical-align: middle;\n",
              "    }\n",
              "\n",
              "    .dataframe tbody tr th {\n",
              "        vertical-align: top;\n",
              "    }\n",
              "\n",
              "    .dataframe thead th {\n",
              "        text-align: right;\n",
              "    }\n",
              "</style>\n",
              "<table border=\"1\" class=\"dataframe\">\n",
              "  <thead>\n",
              "    <tr style=\"text-align: right;\">\n",
              "      <th></th>\n",
              "      <th>text</th>\n",
              "      <th>index</th>\n",
              "    </tr>\n",
              "  </thead>\n",
              "  <tbody>\n",
              "    <tr>\n",
              "      <th>0</th>\n",
              "      <td>Ukrainian President Volodymyr Zelenskyy is exp...</td>\n",
              "      <td>0</td>\n",
              "    </tr>\n",
              "    <tr>\n",
              "      <th>1</th>\n",
              "      <td>Biden admin worries about potential escalation...</td>\n",
              "      <td>1</td>\n",
              "    </tr>\n",
              "    <tr>\n",
              "      <th>2</th>\n",
              "      <td>Hageman spotlights Cheney's roots in Northern ...</td>\n",
              "      <td>2</td>\n",
              "    </tr>\n",
              "    <tr>\n",
              "      <th>3</th>\n",
              "      <td>Lorie Smith says Colorado is violating her Fir...</td>\n",
              "      <td>3</td>\n",
              "    </tr>\n",
              "    <tr>\n",
              "      <th>4</th>\n",
              "      <td>Delaware resident says law that takes effect t...</td>\n",
              "      <td>4</td>\n",
              "    </tr>\n",
              "    <tr>\n",
              "      <th>...</th>\n",
              "      <td>...</td>\n",
              "      <td>...</td>\n",
              "    </tr>\n",
              "    <tr>\n",
              "      <th>3530</th>\n",
              "      <td>The rule is part of a growing trend to curb at...</td>\n",
              "      <td>3530</td>\n",
              "    </tr>\n",
              "    <tr>\n",
              "      <th>3531</th>\n",
              "      <td>San Francisco is 'doomed' with Chesa Boudin as...</td>\n",
              "      <td>3531</td>\n",
              "    </tr>\n",
              "    <tr>\n",
              "      <th>3532</th>\n",
              "      <td>RaeAnn Ensworth said of police, 'I have always...</td>\n",
              "      <td>3532</td>\n",
              "    </tr>\n",
              "    <tr>\n",
              "      <th>3533</th>\n",
              "      <td>House GOP leader Kevin McCarthy in August pred...</td>\n",
              "      <td>3533</td>\n",
              "    </tr>\n",
              "    <tr>\n",
              "      <th>3534</th>\n",
              "      <td>Progressives failed on their biggest policy go...</td>\n",
              "      <td>3534</td>\n",
              "    </tr>\n",
              "  </tbody>\n",
              "</table>\n",
              "<p>3535 rows × 2 columns</p>\n",
              "</div>\n",
              "      <button class=\"colab-df-convert\" onclick=\"convertToInteractive('df-d75fe7ec-1e8c-4825-b840-40c1c833cee1')\"\n",
              "              title=\"Convert this dataframe to an interactive table.\"\n",
              "              style=\"display:none;\">\n",
              "        \n",
              "  <svg xmlns=\"http://www.w3.org/2000/svg\" height=\"24px\"viewBox=\"0 0 24 24\"\n",
              "       width=\"24px\">\n",
              "    <path d=\"M0 0h24v24H0V0z\" fill=\"none\"/>\n",
              "    <path d=\"M18.56 5.44l.94 2.06.94-2.06 2.06-.94-2.06-.94-.94-2.06-.94 2.06-2.06.94zm-11 1L8.5 8.5l.94-2.06 2.06-.94-2.06-.94L8.5 2.5l-.94 2.06-2.06.94zm10 10l.94 2.06.94-2.06 2.06-.94-2.06-.94-.94-2.06-.94 2.06-2.06.94z\"/><path d=\"M17.41 7.96l-1.37-1.37c-.4-.4-.92-.59-1.43-.59-.52 0-1.04.2-1.43.59L10.3 9.45l-7.72 7.72c-.78.78-.78 2.05 0 2.83L4 21.41c.39.39.9.59 1.41.59.51 0 1.02-.2 1.41-.59l7.78-7.78 2.81-2.81c.8-.78.8-2.07 0-2.86zM5.41 20L4 18.59l7.72-7.72 1.47 1.35L5.41 20z\"/>\n",
              "  </svg>\n",
              "      </button>\n",
              "      \n",
              "  <style>\n",
              "    .colab-df-container {\n",
              "      display:flex;\n",
              "      flex-wrap:wrap;\n",
              "      gap: 12px;\n",
              "    }\n",
              "\n",
              "    .colab-df-convert {\n",
              "      background-color: #E8F0FE;\n",
              "      border: none;\n",
              "      border-radius: 50%;\n",
              "      cursor: pointer;\n",
              "      display: none;\n",
              "      fill: #1967D2;\n",
              "      height: 32px;\n",
              "      padding: 0 0 0 0;\n",
              "      width: 32px;\n",
              "    }\n",
              "\n",
              "    .colab-df-convert:hover {\n",
              "      background-color: #E2EBFA;\n",
              "      box-shadow: 0px 1px 2px rgba(60, 64, 67, 0.3), 0px 1px 3px 1px rgba(60, 64, 67, 0.15);\n",
              "      fill: #174EA6;\n",
              "    }\n",
              "\n",
              "    [theme=dark] .colab-df-convert {\n",
              "      background-color: #3B4455;\n",
              "      fill: #D2E3FC;\n",
              "    }\n",
              "\n",
              "    [theme=dark] .colab-df-convert:hover {\n",
              "      background-color: #434B5C;\n",
              "      box-shadow: 0px 1px 3px 1px rgba(0, 0, 0, 0.15);\n",
              "      filter: drop-shadow(0px 1px 2px rgba(0, 0, 0, 0.3));\n",
              "      fill: #FFFFFF;\n",
              "    }\n",
              "  </style>\n",
              "\n",
              "      <script>\n",
              "        const buttonEl =\n",
              "          document.querySelector('#df-d75fe7ec-1e8c-4825-b840-40c1c833cee1 button.colab-df-convert');\n",
              "        buttonEl.style.display =\n",
              "          google.colab.kernel.accessAllowed ? 'block' : 'none';\n",
              "\n",
              "        async function convertToInteractive(key) {\n",
              "          const element = document.querySelector('#df-d75fe7ec-1e8c-4825-b840-40c1c833cee1');\n",
              "          const dataTable =\n",
              "            await google.colab.kernel.invokeFunction('convertToInteractive',\n",
              "                                                     [key], {});\n",
              "          if (!dataTable) return;\n",
              "\n",
              "          const docLinkHtml = 'Like what you see? Visit the ' +\n",
              "            '<a target=\"_blank\" href=https://colab.research.google.com/notebooks/data_table.ipynb>data table notebook</a>'\n",
              "            + ' to learn more about interactive tables.';\n",
              "          element.innerHTML = '';\n",
              "          dataTable['output_type'] = 'display_data';\n",
              "          await google.colab.output.renderOutput(dataTable, element);\n",
              "          const docLink = document.createElement('div');\n",
              "          docLink.innerHTML = docLinkHtml;\n",
              "          element.appendChild(docLink);\n",
              "        }\n",
              "      </script>\n",
              "    </div>\n",
              "  </div>\n",
              "  "
            ]
          },
          "metadata": {},
          "execution_count": 12
        }
      ]
    },
    {
      "cell_type": "code",
      "source": [
        "doc_sample = documents[documents['index'] == 3534].values[0][0]\n",
        "print('original document: ')\n",
        "words = []\n",
        "for word in doc_sample.split(' '):\n",
        "    words.append(word)\n",
        "print(words)\n",
        "print('\\n\\n tokenized and lemmatized document: ')\n",
        "print(preprocess(doc_sample))"
      ],
      "metadata": {
        "id": "Xpu3f9WgEbPC",
        "colab": {
          "base_uri": "https://localhost:8080/"
        },
        "outputId": "4b7d8c3e-7526-46bf-8bdc-2374b13eb48d"
      },
      "execution_count": null,
      "outputs": [
        {
          "output_type": "stream",
          "name": "stdout",
          "text": [
            "original document: \n",
            "['Progressives', 'failed', 'on', 'their', 'biggest', 'policy', 'goals', 'but', 'showed', 'their', 'leverage', 'and', 'controlled', 'debate', 'among', 'Democrats\"Squad\"', 'Democrats', 'failed', 'on', 'their', 'biggest', 'policy', 'priority', 'of', '2021', 'when', 'moderate', 'Sen.', 'Joe', 'Manchin', 'announced', 'he', \"won't\", 'support', 'his', \"party's\", 'massive', 'reconciliation', 'spending', 'bill', '–', 'but', 'progressives', 'still', 'showed', 'their', 'power', 'this', 'year', 'as', 'they', 'controlled', \"Democrats'\", 'agenda', 'and', 'dominated', 'the', 'political', 'conversation.\"They', 'lost', 'on', 'the', 'infrastructure-reconciliation', 'battle.', 'But', 'you', \"shouldn't\", 'think', 'about', 'this', 'in', 'terms', 'of', 'outcomes,\"', 'R', 'Street', 'Institute', 'senior', 'fellow', 'for', 'governance', 'James', 'Wallner', 'told', 'Fox', 'News.', '\"They', 'were', 'able', 'to', 'basically', 'take', 'a', 'bad', 'situation', 'for', 'them…', 'and', 'they', 'were', 'able', 'to', 'forestall', 'defeat', 'for', 'months', 'simply', 'by', 'objecting…', 'and', 'recognizing', 'their', 'leverage.\"Wallner', 'said', 'that', 'in', '2021,', '\"Squad\"', 'members', 'like', 'Rep.', 'Alexandria', 'Ocasio-Cortez,', 'D-N.Y.,', 'and', 'Congressional', 'Progressive', 'Caucus', 'Chair', 'Rep.', 'Pramila', 'Jayapal,', 'D-Wash.,', 'became', 'more', 'battle-tested', 'as', 'legislators,', 'potentially', 'setting', 'themselves', 'up', 'for', 'future', 'success', 'if', 'they', 'learn', 'the', 'right', 'lessons', 'about', 'how', '\"to', 'play', 'the', 'game', 'well.\"\\xa0SCHUMER', 'HITS', 'MANCHIN', 'FOR', 'FAILING', 'TO', 'SUPPORT', 'BUILD', 'BACK', 'BETTER,', 'MAINTAINS', 'DEMOCRATS', 'WILL', '‘FIND', 'A', 'WAY', 'FORWARD’\"I', 'think', 'they', 'wielded', 'a', 'lot', 'of', 'influence', 'at', 'various', 'points', 'in', 'the', 'year.', 'Now,', 'they', 'just', 'have', 'to', 'use', 'it', 'in', 'the', 'right', 'way', 'and', 'create', 'a', 'new', 'environment', 'in', 'the', 'future', 'so', 'that', 'it', 'can', 'be', 'more', 'effective,\"', 'Wallner', 'said.', '\"If', 'they', 'think,', \"'Oh,\", 'well,', 'we', \"didn't\", 'win', 'because', 'we', \"didn't\", 'have', 'enough', 'votes', 'and', 'we', 'just', 'need', 'to', 'defeat', 'people', 'like', 'Joe', \"Manchin…'\", 'That', 'may', 'be', 'sufficient', 'to', 'kind', 'of', 'get', 'them', 'a', 'little', 'bit', 'of', 'what', 'they', 'want.', 'But', 'the', 'most', 'far-reaching', 'stuff', '…', \"that's\", 'still', 'going', 'to', 'be', 'beyond', 'their', 'reach', 'because', 'politics', 'requires', 'more', 'than', 'just', 'winning', 'elections.\"But', 'this', 'year', \"wasn't\", 'just', 'about', 'lessons', 'learned', 'for', 'progressives', 'and', 'the', '\"Squad.\"', 'House', 'Progressive', 'Caucus', 'Deputy', 'Whip', 'Rep.', 'Ro', 'Khanna,', 'D-Calif.,', 'told', 'Fox', 'News', 'that', 'his', 'caucus', 'dictated', 'agenda', 'for', 'Democrats', 'in', '2021', 'in', 'a', 'way', 'they', 'never', 'did', 'before.\\xa0\"We', 'have', 'a', 'prominent', 'seat', 'at', 'the', 'table.', 'I', 'think', 'a', 'few', 'years', 'ago,', 'our', 'issues', 'were', 'not', 'at', 'the', 'center', 'of', 'the', 'discussion.', 'Now', 'they', 'are,\"', 'Khanna', 'said.', '\"Expanding', 'Medicare', 'to', 'include', 'dental,', 'vision,', 'hearing', 'aid', '–', \"that's\", 'something', 'that', 'had', 'broad', 'support', 'in', 'the', 'caucus.', 'Expanding', 'having', 'universal', 'preschool', '–', 'broad', 'support.', 'Having', 'child', 'care', '–', 'broad', 'support.', 'Bold', 'climate', 'provisions', '–', 'broad', 'support.', 'Ending', 'forever', 'wars', '–', 'broad', 'support.\"Khanna', 'lauded', 'Sens.', 'Bernie', 'Sanders,', 'I-Vt.,', 'and', 'Elizabeth', 'Warren,', 'D-Mass.,', 'for', 'their', 'presidential', 'campaigns,', 'which', 'he', 'said', 'helped', 'show', 'how', 'much', 'public', 'support', 'there', 'is', 'for', 'the', \"progressives'\", 'worldview.', 'Wallner,', 'meanwhile,', 'said', \"progressives'\", 'best', 'messenger', 'might', 'be', 'Ocasio-Cortez', 'herself.\\xa0PRESSLEY,', '‘SQUAD’', 'DEMS', 'PRESSURE', 'PELOSI', 'TO', 'STRIP', 'BOEBERT', 'COMMITTEE', 'ASSIGNMENTS', 'OVER', 'OMAR', 'COMMENTS\"The', 'best', 'example', 'of', 'this', 'is', 'AOC', 'who', 'has', 'an', 'incredible', 'amount', 'of', 'raw,', 'natural', 'political', 'skill.', 'And', 'if', 'you', 'think', 'back', 'to', 'when', 'she', 'first', 'won…', 'What', 'does', 'she', 'do', 'before', 'she', 'comes', 'in?', \"She's\", 'protesting', 'outside', \"Pelosi's\", 'office,\"', 'Wallner', 'said.\\xa0\"She', 'says', 'to', 'herself,', '‘Who’s', 'going', 'to', 'be', 'responsible', 'for', 'pushing', 'the', 'Green', 'New', \"Deal?'\", 'And', \"it's\", 'like,', '‘Pelosi’s', 'got', 'a', 'lot', 'of', 'influence,', 'so', \"I'm\", 'going', 'to', 'use', 'my', \"leverage,'\", 'which', 'at', 'that', 'point', 'was', 'her', 'ability', 'to', 'attract', 'attention,\"', 'Wallner', 'said.', '\"She\\'s', 'a', 'freshman', 'back-bencher,', 'no', 'prior', 'political', 'experience,', \"it's\", 'not', 'like', \"she's\", 'a', 'former', 'governor', 'or', 'something,', 'and', 'within', 'a', 'couple', 'of', 'months', 'she', 'forces', 'the', 'House', 'Democrats', 'to', 'take', 'up', 'her', 'Green', 'New', 'Deal', 'and', 'pass', 'it.\"\\xa0The', 'Green', 'New', 'Deal', 'never', 'passed', 'the', 'Senate', 'and', 'was', 'never', 'signed', 'into', 'law.', 'But', 'if', 'Ocasio-Cortez', 'continues', 'to', 'exert', 'influence', 'the', 'way', 'she', 'does,', 'Wallner', 'said,', '\"then', 'she', 'can', 'get', 'like', '10%', 'of', 'what', 'she', 'wants', 'in', '30', 'years.', 'I', 'mean,', \"that's\", 'essentially', 'worse', 'than', 'baseball,', 'politics.', 'But', \"that's\", 'a', 'good', 'thing.\"Khanna', 'also', 'said', 'progressives', 'racked', 'up', 'serious', 'policy', 'wins', 'in', '2021', 'on', 'issues', 'besides', 'the', 'reconciliation', 'bill.', 'The', 'coronavirus', 'stimulus', 'bill', 'in', 'January,', 'he', 'said,', 'was', '\"very', 'significant\"', 'because', 'of', 'the', 'stimulus', 'checks', 'to', 'Americans', 'and', 'the', 'child', 'tax', 'credit.', 'The', 'infrastructure', 'bill', 'was', 'important', 'too,', 'according', 'to', 'Khanna,', 'because', 'of', 'its', 'investments', 'in', 'removing', 'lead', 'pipes', 'and', 'rural', 'broadband.', 'And', 'the', 'withdrawal', 'from', 'Afghanistan,', 'he', 'said', '\"is', 'something', 'that', 'progressives', 'have', 'been', 'pushing', 'for.\"\\xa0CLICK', 'HERE', 'TO', 'GET', 'THE', 'FOX', 'NEWS', 'APPBut', 'there', 'were', 'also', 'some', 'serious', 'policy', 'failures', 'for', 'progressives.', 'They', \"couldn't\", 'fit', 'a', 'minimum', 'wage', 'hike', 'in', 'the', 'coronavirus', 'stimulus', 'bill.', 'President', 'Biden', \"hasn't\", 'canceled', 'student', 'loan', 'debt.', 'Progressives', 'failed', 'to', 'insert', 'changes', 'to', 'qualified', 'immunity', 'into', 'policing', 'reform', 'legislation', 'before', 'talks', 'on', 'that', 'died.', 'And', 'efforts', 'to', 'pack', 'the', 'Supreme', 'Court,', 'get', 'rid', 'of', 'the', 'legislative', 'filibuster', 'and', 'add', 'Washington,', 'D.C.,', 'as', 'a', 'state', 'never', 'gained', 'traction.\\xa0But', 'Wallner', 'said', 'some', 'of', 'those', 'goals', 'may', 'be', 'achievable', 'in', 'the', 'future', '–', 'perhaps', 'as', 'early', 'as', '2022', '–', 'if', 'progressives', 'take', 'away', 'the', 'right', 'lessons', 'from', 'their', 'successes', 'and', 'failures', 'in', '2021.\"Are', 'they', 'going', 'to', 'be', 'in', 'the', 'right', 'frame', 'of', 'mind', 'to', 'kind', 'of', 'say,', '‘OK,', 'what', 'did', 'we', 'do', 'right?’\"', 'Wallner', 'said.\\xa0']\n",
            "\n",
            "\n",
            " tokenized and lemmatized document: \n",
            "['progressives', 'fail', 'biggest', 'policy', 'goals', 'show', 'leverage', 'control', 'debate', 'democrats', 'squad', 'democrats', 'fail', 'biggest', 'policy', 'priority', 'moderate', 'manchin', 'announce', 'support', 'party', 'massive', 'reconciliation', 'spend', 'progressives', 'show', 'power', 'year', 'control', 'democrats', 'agenda', 'dominate', 'political', 'conversation', 'lose', 'infrastructure', 'reconciliation', 'battle', 'shouldn', 'think', 'term', 'outcomes', 'street', 'institute', 'senior', 'fellow', 'governance', 'jam', 'wallner', 'tell', 'news', 'able', 'basically', 'situation', 'able', 'forestall', 'defeat', 'months', 'simply', 'object', 'recognize', 'leverage', 'wallner', 'say', 'squad', 'members', 'like', 'alexandria', 'ocasio', 'cortez', 'congressional', 'progressive', 'caucus', 'chair', 'pramila', 'jayapal', 'wash', 'battle', 'test', 'legislators', 'potentially', 'set', 'future', 'success', 'learn', 'right', 'lessons', 'play', 'game', 'schumer', 'hit', 'manchin', 'fail', 'support', 'build', 'better', 'maintain', 'democrats', 'forward', 'think', 'wield', 'influence', 'point', 'year', 'right', 'create', 'environment', 'future', 'effective', 'wallner', 'say', 'think', 'vote', 'need', 'defeat', 'people', 'like', 'manchin', 'sufficient', 'kind', 'little', 'want', 'reach', 'stuff', 'go', 'reach', 'politics', 'require', 'win', 'elections', 'year', 'wasn', 'lessons', 'learn', 'progressives', 'squad', 'house', 'progressive', 'caucus', 'deputy', 'whip', 'khanna', 'calif', 'tell', 'news', 'caucus', 'dictate', 'agenda', 'democrats', 'prominent', 'seat', 'table', 'think', 'years', 'issue', 'center', 'discussion', 'khanna', 'say', 'expand', 'medicare', 'include', 'dental', 'vision', 'hear', 'broad', 'support', 'caucus', 'expand', 'have', 'universal', 'preschool', 'broad', 'support', 'have', 'child', 'care', 'broad', 'support', 'bold', 'climate', 'provision', 'broad', 'support', 'end', 'forever', 'war', 'broad', 'support', 'khanna', 'laud', 'sens', 'bernie', 'sanders', 'elizabeth', 'warren', 'mass', 'presidential', 'campaign', 'say', 'help', 'public', 'support', 'progressives', 'worldview', 'wallner', 'say', 'progressives', 'best', 'messenger', 'ocasio', 'cortez', 'pressley', 'squad', 'dems', 'pressure', 'pelosi', 'strip', 'boebert', 'committee', 'assignments', 'omar', 'comment', 'best', 'example', 'incredible', 'natural', 'political', 'skill', 'think', 'come', 'protest', 'outside', 'pelosi', 'office', 'wallner', 'say', 'say', 'go', 'responsible', 'push', 'green', 'deal', 'like', 'pelosi', 'influence', 'go', 'leverage', 'point', 'ability', 'attract', 'attention', 'wallner', 'say', 'freshman', 'bencher', 'prior', 'political', 'experience', 'like', 'governor', 'couple', 'months', 'force', 'house', 'democrats', 'green', 'deal', 'pass', 'green', 'deal', 'pass', 'senate', 'sign', 'ocasio', 'cortez', 'continue', 'exert', 'influence', 'wallner', 'say', 'like', 'want', 'years', 'mean', 'essentially', 'worse', 'baseball', 'politics', 'good', 'thing', 'khanna', 'say', 'progressives', 'rack', 'policy', 'win', 'issue', 'reconciliation', 'coronavirus', 'stimulus', 'january', 'say', 'significant', 'stimulus', 'check', 'americans', 'child', 'credit', 'infrastructure', 'important', 'accord', 'khanna', 'investments', 'remove', 'lead', 'pip', 'rural', 'broadband', 'withdrawal', 'afghanistan', 'say', 'progressives', 'push', 'click', 'news', 'appbut', 'policy', 'failures', 'progressives', 'couldn', 'minimum', 'wage', 'hike', 'coronavirus', 'stimulus', 'president', 'biden', 'hasn', 'cancel', 'student', 'loan', 'debt', 'progressives', 'fail', 'insert', 'change', 'qualify', 'immunity', 'police', 'reform', 'legislation', 'talk', 'die', 'efforts', 'pack', 'supreme', 'court', 'legislative', 'filibuster', 'washington', 'state', 'gain', 'traction', 'wallner', 'say', 'goals', 'achievable', 'future', 'early', 'progressives', 'away', 'right', 'lessons', 'successes', 'failures', 'go', 'right', 'frame', 'mind', 'kind', 'right', 'wallner', 'say']\n"
          ]
        }
      ]
    },
    {
      "cell_type": "code",
      "source": [
        "processed_docs = documents['text'].map(preprocess)\n",
        "processed_docs[:10]"
      ],
      "metadata": {
        "id": "iyL5TDjaEbRS",
        "colab": {
          "base_uri": "https://localhost:8080/"
        },
        "outputId": "dd11422e-8362-4519-b583-052a1300927e"
      },
      "execution_count": null,
      "outputs": [
        {
          "output_type": "execute_result",
          "data": {
            "text/plain": [
              "0    [ukrainian, president, volodymyr, zelenskyy, e...\n",
              "1    [biden, admin, worry, potential, escalation, r...\n",
              "2    [hageman, spotlight, cheney, root, northern, v...\n",
              "3    [lorie, smith, say, colorado, violate, amendme...\n",
              "4    [delaware, resident, say, take, effect, year, ...\n",
              "5    [glaad, praise, transgender, segmentsdr, mehme...\n",
              "6    [bereave, widow, say, husband, tell, seat, jen...\n",
              "7    [largest, risk, escalation, conflict, zone, en...\n",
              "8    [pay, close, attention, start, putin, pelosi, ...\n",
              "9    [reminder, vaccinate, haven, case, obama, said...\n",
              "Name: text, dtype: object"
            ]
          },
          "metadata": {},
          "execution_count": 39
        }
      ]
    },
    {
      "cell_type": "code",
      "source": [
        "dictionary = gensim.corpora.Dictionary(processed_docs)\n",
        "count = 0\n",
        "for k, v in dictionary.iteritems():\n",
        "    print(k, v)\n",
        "    count += 1\n",
        "    if count > 10:\n",
        "        break"
      ],
      "metadata": {
        "id": "YZs2BTLvEbTh",
        "colab": {
          "base_uri": "https://localhost:8080/"
        },
        "outputId": "a6465523-e203-4634-fa8e-f32a0ab5f1a6"
      },
      "execution_count": null,
      "outputs": [
        {
          "output_type": "stream",
          "name": "stdout",
          "text": [
            "0 action\n",
            "1 additional\n",
            "2 address\n",
            "3 admiration\n",
            "4 aggression\n",
            "5 alliance\n",
            "6 ally\n",
            "7 amid\n",
            "8 announce\n",
            "9 artery\n",
            "10 article\n"
          ]
        }
      ]
    },
    {
      "cell_type": "code",
      "source": [
        "dictionary.filter_extremes(no_below=15, no_above=0.5, keep_n=100000)"
      ],
      "metadata": {
        "id": "Mwi2P38hEbWE"
      },
      "execution_count": null,
      "outputs": []
    },
    {
      "cell_type": "code",
      "source": [
        "bow_corpus = [dictionary.doc2bow(doc) for doc in processed_docs]\n",
        "bow_corpus[3534]"
      ],
      "metadata": {
        "id": "jS3IkcEHEbYn",
        "colab": {
          "base_uri": "https://localhost:8080/"
        },
        "outputId": "afc0e4dc-db45-4d62-dd28-383daf808756"
      },
      "execution_count": null,
      "outputs": [
        {
          "output_type": "execute_result",
          "data": {
            "text/plain": [
              "[(7, 1),\n",
              " (16, 1),\n",
              " (26, 1),\n",
              " (41, 2),\n",
              " (54, 1),\n",
              " (62, 1),\n",
              " (69, 2),\n",
              " (70, 3),\n",
              " (76, 1),\n",
              " (89, 1),\n",
              " (91, 1),\n",
              " (92, 2),\n",
              " (97, 1),\n",
              " (99, 8),\n",
              " (146, 4),\n",
              " (151, 1),\n",
              " (152, 1),\n",
              " (161, 1),\n",
              " (163, 1),\n",
              " (170, 1),\n",
              " (183, 1),\n",
              " (186, 1),\n",
              " (189, 4),\n",
              " (196, 1),\n",
              " (198, 1),\n",
              " (212, 2),\n",
              " (219, 1),\n",
              " (223, 1),\n",
              " (234, 1),\n",
              " (238, 1),\n",
              " (245, 1),\n",
              " (253, 1),\n",
              " (256, 1),\n",
              " (261, 2),\n",
              " (277, 1),\n",
              " (292, 1),\n",
              " (294, 1),\n",
              " (295, 5),\n",
              " (305, 2),\n",
              " (318, 1),\n",
              " (334, 1),\n",
              " (341, 6),\n",
              " (348, 1),\n",
              " (370, 1),\n",
              " (377, 5),\n",
              " (381, 2),\n",
              " (385, 1),\n",
              " (392, 1),\n",
              " (402, 5),\n",
              " (431, 1),\n",
              " (436, 3),\n",
              " (438, 2),\n",
              " (446, 1),\n",
              " (451, 1),\n",
              " (458, 1),\n",
              " (474, 1),\n",
              " (475, 1),\n",
              " (476, 1),\n",
              " (489, 1),\n",
              " (496, 1),\n",
              " (538, 1),\n",
              " (543, 1),\n",
              " (550, 1),\n",
              " (553, 1),\n",
              " (555, 1),\n",
              " (567, 1),\n",
              " (570, 1),\n",
              " (584, 1),\n",
              " (596, 1),\n",
              " (600, 1),\n",
              " (620, 1),\n",
              " (625, 1),\n",
              " (626, 1),\n",
              " (634, 1),\n",
              " (656, 1),\n",
              " (681, 1),\n",
              " (682, 1),\n",
              " (684, 1),\n",
              " (728, 1),\n",
              " (730, 2),\n",
              " (736, 2),\n",
              " (746, 5),\n",
              " (751, 1),\n",
              " (752, 2),\n",
              " (766, 1),\n",
              " (780, 1),\n",
              " (782, 1),\n",
              " (790, 3),\n",
              " (793, 1),\n",
              " (797, 1),\n",
              " (808, 1),\n",
              " (840, 1),\n",
              " (842, 4),\n",
              " (871, 1),\n",
              " (902, 2),\n",
              " (904, 2),\n",
              " (910, 1),\n",
              " (915, 3),\n",
              " (916, 1),\n",
              " (957, 1),\n",
              " (959, 2),\n",
              " (967, 1),\n",
              " (972, 1),\n",
              " (976, 1),\n",
              " (993, 1),\n",
              " (1023, 1),\n",
              " (1050, 1),\n",
              " (1051, 1),\n",
              " (1068, 1),\n",
              " (1071, 1),\n",
              " (1072, 1),\n",
              " (1074, 2),\n",
              " (1078, 1),\n",
              " (1090, 2),\n",
              " (1091, 1),\n",
              " (1093, 1),\n",
              " (1108, 2),\n",
              " (1120, 1),\n",
              " (1123, 1),\n",
              " (1124, 1),\n",
              " (1138, 2),\n",
              " (1164, 1),\n",
              " (1184, 1),\n",
              " (1193, 2),\n",
              " (1204, 1),\n",
              " (1281, 2),\n",
              " (1297, 1),\n",
              " (1315, 2),\n",
              " (1326, 1),\n",
              " (1357, 1),\n",
              " (1442, 3),\n",
              " (1446, 1),\n",
              " (1459, 1),\n",
              " (1538, 2),\n",
              " (1563, 2),\n",
              " (1617, 2),\n",
              " (1622, 1),\n",
              " (1626, 4),\n",
              " (1650, 3),\n",
              " (1664, 1),\n",
              " (1779, 3),\n",
              " (1783, 3),\n",
              " (1789, 1),\n",
              " (1797, 1),\n",
              " (1825, 1),\n",
              " (1851, 2),\n",
              " (1861, 1),\n",
              " (1883, 1),\n",
              " (1924, 2),\n",
              " (1976, 1),\n",
              " (1987, 1),\n",
              " (2013, 1),\n",
              " (2045, 1),\n",
              " (2054, 1),\n",
              " (2147, 1),\n",
              " (2153, 10),\n",
              " (2179, 1),\n",
              " (2194, 1),\n",
              " (2209, 1),\n",
              " (2210, 1),\n",
              " (2254, 1),\n",
              " (2270, 1),\n",
              " (2284, 2),\n",
              " (2308, 1),\n",
              " (2317, 1),\n",
              " (2346, 1),\n",
              " (2358, 1),\n",
              " (2368, 1),\n",
              " (2446, 1),\n",
              " (2505, 1),\n",
              " (2542, 1),\n",
              " (2556, 1),\n",
              " (2578, 1),\n",
              " (2617, 1),\n",
              " (2622, 1),\n",
              " (2655, 1),\n",
              " (2711, 3),\n",
              " (2715, 1),\n",
              " (2754, 1),\n",
              " (2767, 1),\n",
              " (2776, 1),\n",
              " (2779, 1),\n",
              " (2786, 1),\n",
              " (2820, 1),\n",
              " (2856, 1),\n",
              " (3058, 3),\n",
              " (3090, 1),\n",
              " (3130, 1),\n",
              " (3133, 1),\n",
              " (3187, 1),\n",
              " (3190, 1),\n",
              " (3362, 1),\n",
              " (3483, 3),\n",
              " (3533, 1),\n",
              " (3613, 2),\n",
              " (3702, 1),\n",
              " (3848, 1),\n",
              " (3902, 1),\n",
              " (3940, 1),\n",
              " (3979, 1),\n",
              " (3990, 1),\n",
              " (4004, 1),\n",
              " (4013, 1),\n",
              " (4015, 3),\n",
              " (4019, 3),\n",
              " (4093, 1),\n",
              " (4096, 4),\n",
              " (4119, 1),\n",
              " (4179, 1),\n",
              " (4234, 1),\n",
              " (4243, 1),\n",
              " (4590, 1),\n",
              " (4671, 1),\n",
              " (4789, 1),\n",
              " (4794, 3),\n",
              " (4972, 1),\n",
              " (5010, 1)]"
            ]
          },
          "metadata": {},
          "execution_count": 47
        }
      ]
    },
    {
      "cell_type": "code",
      "source": [
        "bow_doc_4310 = bow_corpus[3534]\n",
        "for i in range(len(bow_doc_4310)):\n",
        "    print(\"Word {} (\\\"{}\\\") appears {} time.\".format(bow_doc_4310[i][0], \n",
        "                                               dictionary[bow_doc_4310[i][0]], \n",
        "bow_doc_4310[i][1]))"
      ],
      "metadata": {
        "colab": {
          "base_uri": "https://localhost:8080/"
        },
        "id": "eIedPUW2MX3R",
        "outputId": "d1465ee5-d2c0-43a1-b00c-d2bddd8a0f87"
      },
      "execution_count": null,
      "outputs": [
        {
          "output_type": "stream",
          "name": "stdout",
          "text": [
            "Word 7 (\"announce\") appears 1 time.\n",
            "Word 16 (\"calif\") appears 1 time.\n",
            "Word 26 (\"continue\") appears 1 time.\n",
            "Word 41 (\"expand\") appears 2 time.\n",
            "Word 54 (\"legislation\") appears 1 time.\n",
            "Word 62 (\"members\") appears 1 time.\n",
            "Word 69 (\"pass\") appears 2 time.\n",
            "Word 70 (\"pelosi\") appears 3 time.\n",
            "Word 76 (\"provision\") appears 1 time.\n",
            "Word 89 (\"schumer\") appears 1 time.\n",
            "Word 91 (\"senate\") appears 1 time.\n",
            "Word 92 (\"show\") appears 2 time.\n",
            "Word 97 (\"spend\") appears 1 time.\n",
            "Word 99 (\"support\") appears 8 time.\n",
            "Word 146 (\"caucus\") appears 4 time.\n",
            "Word 151 (\"comment\") appears 1 time.\n",
            "Word 152 (\"committee\") appears 1 time.\n",
            "Word 161 (\"deputy\") appears 1 time.\n",
            "Word 163 (\"die\") appears 1 time.\n",
            "Word 170 (\"effective\") appears 1 time.\n",
            "Word 183 (\"force\") appears 1 time.\n",
            "Word 186 (\"gain\") appears 1 time.\n",
            "Word 189 (\"go\") appears 4 time.\n",
            "Word 196 (\"hear\") appears 1 time.\n",
            "Word 198 (\"help\") appears 1 time.\n",
            "Word 212 (\"issue\") appears 2 time.\n",
            "Word 219 (\"lead\") appears 1 time.\n",
            "Word 223 (\"maintain\") appears 1 time.\n",
            "Word 234 (\"moderate\") appears 1 time.\n",
            "Word 238 (\"need\") appears 1 time.\n",
            "Word 245 (\"party\") appears 1 time.\n",
            "Word 253 (\"power\") appears 1 time.\n",
            "Word 256 (\"pressure\") appears 1 time.\n",
            "Word 261 (\"push\") appears 2 time.\n",
            "Word 277 (\"sens\") appears 1 time.\n",
            "Word 292 (\"talk\") appears 1 time.\n",
            "Word 294 (\"thing\") appears 1 time.\n",
            "Word 295 (\"think\") appears 5 time.\n",
            "Word 305 (\"want\") appears 2 time.\n",
            "Word 318 (\"campaign\") appears 1 time.\n",
            "Word 334 (\"congressional\") appears 1 time.\n",
            "Word 341 (\"democrats\") appears 6 time.\n",
            "Word 348 (\"efforts\") appears 1 time.\n",
            "Word 370 (\"important\") appears 1 time.\n",
            "Word 377 (\"like\") appears 5 time.\n",
            "Word 381 (\"months\") appears 2 time.\n",
            "Word 385 (\"office\") appears 1 time.\n",
            "Word 392 (\"presidential\") appears 1 time.\n",
            "Word 402 (\"right\") appears 5 time.\n",
            "Word 431 (\"vote\") appears 1 time.\n",
            "Word 436 (\"year\") appears 3 time.\n",
            "Word 438 (\"able\") appears 2 time.\n",
            "Word 446 (\"americans\") appears 1 time.\n",
            "Word 451 (\"away\") appears 1 time.\n",
            "Word 458 (\"care\") appears 1 time.\n",
            "Word 474 (\"couple\") appears 1 time.\n",
            "Word 475 (\"court\") appears 1 time.\n",
            "Word 476 (\"create\") appears 1 time.\n",
            "Word 489 (\"end\") appears 1 time.\n",
            "Word 496 (\"fellow\") appears 1 time.\n",
            "Word 538 (\"public\") appears 1 time.\n",
            "Word 543 (\"recognize\") appears 1 time.\n",
            "Word 550 (\"require\") appears 1 time.\n",
            "Word 553 (\"senior\") appears 1 time.\n",
            "Word 555 (\"set\") appears 1 time.\n",
            "Word 567 (\"supreme\") appears 1 time.\n",
            "Word 570 (\"test\") appears 1 time.\n",
            "Word 584 (\"accord\") appears 1 time.\n",
            "Word 596 (\"better\") appears 1 time.\n",
            "Word 600 (\"check\") appears 1 time.\n",
            "Word 620 (\"dems\") appears 1 time.\n",
            "Word 625 (\"early\") appears 1 time.\n",
            "Word 626 (\"elections\") appears 1 time.\n",
            "Word 634 (\"governor\") appears 1 time.\n",
            "Word 656 (\"mean\") appears 1 time.\n",
            "Word 681 (\"qualify\") appears 1 time.\n",
            "Word 682 (\"rack\") appears 1 time.\n",
            "Word 684 (\"reform\") appears 1 time.\n",
            "Word 728 (\"washington\") appears 1 time.\n",
            "Word 730 (\"years\") appears 2 time.\n",
            "Word 736 (\"agenda\") appears 2 time.\n",
            "Word 746 (\"broad\") appears 5 time.\n",
            "Word 751 (\"change\") appears 1 time.\n",
            "Word 752 (\"child\") appears 2 time.\n",
            "Word 766 (\"credit\") appears 1 time.\n",
            "Word 780 (\"example\") appears 1 time.\n",
            "Word 782 (\"experience\") appears 1 time.\n",
            "Word 790 (\"future\") appears 3 time.\n",
            "Word 793 (\"good\") appears 1 time.\n",
            "Word 797 (\"hit\") appears 1 time.\n",
            "Word 808 (\"institute\") appears 1 time.\n",
            "Word 840 (\"play\") appears 1 time.\n",
            "Word 842 (\"policy\") appears 4 time.\n",
            "Word 871 (\"sign\") appears 1 time.\n",
            "Word 902 (\"battle\") appears 2 time.\n",
            "Word 904 (\"best\") appears 2 time.\n",
            "Word 910 (\"chair\") appears 1 time.\n",
            "Word 915 (\"deal\") appears 3 time.\n",
            "Word 916 (\"debt\") appears 1 time.\n",
            "Word 957 (\"prominent\") appears 1 time.\n",
            "Word 959 (\"reach\") appears 2 time.\n",
            "Word 967 (\"seat\") appears 1 time.\n",
            "Word 972 (\"term\") appears 1 time.\n",
            "Word 976 (\"vision\") appears 1 time.\n",
            "Word 993 (\"center\") appears 1 time.\n",
            "Word 1023 (\"lose\") appears 1 time.\n",
            "Word 1050 (\"significant\") appears 1 time.\n",
            "Word 1051 (\"situation\") appears 1 time.\n",
            "Word 1068 (\"attention\") appears 1 time.\n",
            "Word 1071 (\"build\") appears 1 time.\n",
            "Word 1072 (\"cancel\") appears 1 time.\n",
            "Word 1074 (\"coronavirus\") appears 2 time.\n",
            "Word 1078 (\"discussion\") appears 1 time.\n",
            "Word 1090 (\"have\") appears 2 time.\n",
            "Word 1091 (\"hike\") appears 1 time.\n",
            "Word 1093 (\"investments\") appears 1 time.\n",
            "Word 1108 (\"point\") appears 2 time.\n",
            "Word 1120 (\"simply\") appears 1 time.\n",
            "Word 1123 (\"street\") appears 1 time.\n",
            "Word 1124 (\"stuff\") appears 1 time.\n",
            "Word 1138 (\"control\") appears 2 time.\n",
            "Word 1164 (\"potentially\") appears 1 time.\n",
            "Word 1184 (\"afghanistan\") appears 1 time.\n",
            "Word 1193 (\"biggest\") appears 2 time.\n",
            "Word 1204 (\"climate\") appears 1 time.\n",
            "Word 1281 (\"win\") appears 2 time.\n",
            "Word 1297 (\"little\") appears 1 time.\n",
            "Word 1315 (\"kind\") appears 2 time.\n",
            "Word 1326 (\"shouldn\") appears 1 time.\n",
            "Word 1357 (\"forward\") appears 1 time.\n",
            "Word 1442 (\"lessons\") appears 3 time.\n",
            "Word 1446 (\"natural\") appears 1 time.\n",
            "Word 1459 (\"table\") appears 1 time.\n",
            "Word 1538 (\"learn\") appears 2 time.\n",
            "Word 1563 (\"politics\") appears 2 time.\n",
            "Word 1617 (\"defeat\") appears 2 time.\n",
            "Word 1622 (\"dominate\") appears 1 time.\n",
            "Word 1626 (\"fail\") appears 4 time.\n",
            "Word 1650 (\"political\") appears 3 time.\n",
            "Word 1664 (\"ability\") appears 1 time.\n",
            "Word 1779 (\"green\") appears 3 time.\n",
            "Word 1783 (\"influence\") appears 3 time.\n",
            "Word 1789 (\"legislative\") appears 1 time.\n",
            "Word 1797 (\"outside\") appears 1 time.\n",
            "Word 1825 (\"conversation\") appears 1 time.\n",
            "Word 1851 (\"progressive\") appears 2 time.\n",
            "Word 1861 (\"strip\") appears 1 time.\n",
            "Word 1883 (\"january\") appears 1 time.\n",
            "Word 1924 (\"infrastructure\") appears 2 time.\n",
            "Word 1976 (\"wage\") appears 1 time.\n",
            "Word 1987 (\"debate\") appears 1 time.\n",
            "Word 2013 (\"responsible\") appears 1 time.\n",
            "Word 2045 (\"prior\") appears 1 time.\n",
            "Word 2054 (\"warren\") appears 1 time.\n",
            "Word 2147 (\"pack\") appears 1 time.\n",
            "Word 2153 (\"progressives\") appears 10 time.\n",
            "Word 2179 (\"incredible\") appears 1 time.\n",
            "Word 2194 (\"police\") appears 1 time.\n",
            "Word 2209 (\"whip\") appears 1 time.\n",
            "Word 2210 (\"wield\") appears 1 time.\n",
            "Word 2254 (\"wasn\") appears 1 time.\n",
            "Word 2270 (\"minimum\") appears 1 time.\n",
            "Word 2284 (\"failures\") appears 2 time.\n",
            "Word 2308 (\"worse\") appears 1 time.\n",
            "Word 2317 (\"freshman\") appears 1 time.\n",
            "Word 2346 (\"environment\") appears 1 time.\n",
            "Word 2358 (\"object\") appears 1 time.\n",
            "Word 2368 (\"student\") appears 1 time.\n",
            "Word 2446 (\"outcomes\") appears 1 time.\n",
            "Word 2505 (\"universal\") appears 1 time.\n",
            "Word 2542 (\"remove\") appears 1 time.\n",
            "Word 2556 (\"hasn\") appears 1 time.\n",
            "Word 2578 (\"rural\") appears 1 time.\n",
            "Word 2617 (\"jam\") appears 1 time.\n",
            "Word 2622 (\"massive\") appears 1 time.\n",
            "Word 2655 (\"sufficient\") appears 1 time.\n",
            "Word 2711 (\"stimulus\") appears 3 time.\n",
            "Word 2715 (\"basically\") appears 1 time.\n",
            "Word 2754 (\"mind\") appears 1 time.\n",
            "Word 2767 (\"appbut\") appears 1 time.\n",
            "Word 2776 (\"essentially\") appears 1 time.\n",
            "Word 2779 (\"immunity\") appears 1 time.\n",
            "Word 2786 (\"priority\") appears 1 time.\n",
            "Word 2820 (\"wash\") appears 1 time.\n",
            "Word 2856 (\"couldn\") appears 1 time.\n",
            "Word 3058 (\"leverage\") appears 3 time.\n",
            "Word 3090 (\"loan\") appears 1 time.\n",
            "Word 3130 (\"game\") appears 1 time.\n",
            "Word 3133 (\"withdrawal\") appears 1 time.\n",
            "Word 3187 (\"bold\") appears 1 time.\n",
            "Word 3190 (\"legislators\") appears 1 time.\n",
            "Word 3362 (\"mass\") appears 1 time.\n",
            "Word 3483 (\"manchin\") appears 3 time.\n",
            "Word 3533 (\"elizabeth\") appears 1 time.\n",
            "Word 3613 (\"goals\") appears 2 time.\n",
            "Word 3702 (\"baseball\") appears 1 time.\n",
            "Word 3848 (\"dictate\") appears 1 time.\n",
            "Word 3902 (\"frame\") appears 1 time.\n",
            "Word 3940 (\"success\") appears 1 time.\n",
            "Word 3979 (\"boebert\") appears 1 time.\n",
            "Word 3990 (\"omar\") appears 1 time.\n",
            "Word 4004 (\"exert\") appears 1 time.\n",
            "Word 4013 (\"alexandria\") appears 1 time.\n",
            "Word 4015 (\"cortez\") appears 3 time.\n",
            "Word 4019 (\"ocasio\") appears 3 time.\n",
            "Word 4093 (\"war\") appears 1 time.\n",
            "Word 4096 (\"squad\") appears 4 time.\n",
            "Word 4119 (\"protest\") appears 1 time.\n",
            "Word 4179 (\"attract\") appears 1 time.\n",
            "Word 4234 (\"bernie\") appears 1 time.\n",
            "Word 4243 (\"sanders\") appears 1 time.\n",
            "Word 4590 (\"medicare\") appears 1 time.\n",
            "Word 4671 (\"forever\") appears 1 time.\n",
            "Word 4789 (\"filibuster\") appears 1 time.\n",
            "Word 4794 (\"reconciliation\") appears 3 time.\n",
            "Word 4972 (\"laud\") appears 1 time.\n",
            "Word 5010 (\"governance\") appears 1 time.\n"
          ]
        }
      ]
    },
    {
      "cell_type": "code",
      "source": [
        "from gensim import corpora, models\n",
        "tfidf = models.TfidfModel(bow_corpus)\n",
        "corpus_tfidf = tfidf[bow_corpus]\n",
        "from pprint import pprint\n",
        "for doc in corpus_tfidf:\n",
        "    pprint(doc)\n",
        "    break"
      ],
      "metadata": {
        "colab": {
          "base_uri": "https://localhost:8080/"
        },
        "id": "exWG_-VSMX5W",
        "outputId": "72b16d8c-6dad-4459-9f9c-d352e14ed697"
      },
      "execution_count": null,
      "outputs": [
        {
          "output_type": "stream",
          "name": "stdout",
          "text": [
            "[(0, 0.029048048021168206),\n",
            " (1, 0.10219967737059035),\n",
            " (2, 0.0661914533469502),\n",
            " (3, 0.058963983793663195),\n",
            " (4, 0.06587501897622976),\n",
            " (5, 0.039238102452641865),\n",
            " (6, 0.03520438668155338),\n",
            " (7, 0.02813652117960205),\n",
            " (8, 0.11139470202965399),\n",
            " (9, 0.05878483962008613),\n",
            " (10, 0.07175348485208115),\n",
            " (11, 0.06299769956475167),\n",
            " (12, 0.03200564489197003),\n",
            " (13, 0.12599539912950333),\n",
            " (14, 0.06225485140565173),\n",
            " (15, 0.0824749184203043),\n",
            " (16, 0.06184130320514127),\n",
            " (17, 0.019322766616090347),\n",
            " (18, 0.09055276379395442),\n",
            " (19, 0.08841004036951479),\n",
            " (20, 0.060165173968069786),\n",
            " (21, 0.05066295765773679),\n",
            " (22, 0.06662506316224508),\n",
            " (23, 0.050724843529014685),\n",
            " (24, 0.0951177891182724),\n",
            " (25, 0.22441224436809581),\n",
            " (26, 0.030934277776419165),\n",
            " (27, 0.0221148946071112),\n",
            " (28, 0.04744758382184648),\n",
            " (29, 0.040638349390673005),\n",
            " (30, 0.08875305785383068),\n",
            " (31, 0.09755146922534466),\n",
            " (32, 0.10210577806383615),\n",
            " (33, 0.10426411563550948),\n",
            " (34, 0.08875305785383068),\n",
            " (35, 0.053284266522755246),\n",
            " (36, 0.04148732789145375),\n",
            " (37, 0.04793384921043681),\n",
            " (38, 0.11095314388139911),\n",
            " (39, 0.04734096103930822),\n",
            " (40, 0.0687591678937217),\n",
            " (41, 0.059144590384833814),\n",
            " (42, 0.03861996670337656),\n",
            " (43, 0.08096586650845984),\n",
            " (44, 0.052549620987084336),\n",
            " (45, 0.05173931050019987),\n",
            " (46, 0.035020782436485313),\n",
            " (47, 0.06399097190810482),\n",
            " (48, 0.04951886737795726),\n",
            " (49, 0.05756987326398454),\n",
            " (50, 0.1404114162528971),\n",
            " (51, 0.16144813946995523),\n",
            " (52, 0.09170733102830594),\n",
            " (53, 0.0369957611643931),\n",
            " (54, 0.046454832851068904),\n",
            " (55, 0.08495101105354987),\n",
            " (56, 0.044499991663443816),\n",
            " (57, 0.024979463551678176),\n",
            " (58, 0.079326288055443),\n",
            " (59, 0.039238102452641865),\n",
            " (60, 0.041528185122929086),\n",
            " (61, 0.1177143073579256),\n",
            " (62, 0.1623119190269843),\n",
            " (63, 0.038441400886931716),\n",
            " (64, 0.030071727048105807),\n",
            " (65, 0.08024826248156489),\n",
            " (66, 0.0632146050722786),\n",
            " (67, 0.18460146716286474),\n",
            " (68, 0.03340516087217233),\n",
            " (69, 0.08012913753675863),\n",
            " (70, 0.18430603042439478),\n",
            " (71, 0.09755146922534466),\n",
            " (72, 0.055652313575040156),\n",
            " (73, 0.06889963937867387),\n",
            " (74, 0.08807225999838614),\n",
            " (75, 0.07540573971552983),\n",
            " (76, 0.07559564804514154),\n",
            " (77, 0.0648705084144025),\n",
            " (78, 0.09915150488936089),\n",
            " (79, 0.057151634257868435),\n",
            " (80, 0.03424231403955031),\n",
            " (81, 0.036049999847950355),\n",
            " (82, 0.12085155230114081),\n",
            " (83, 0.058695808576173),\n",
            " (84, 0.04882562472392884),\n",
            " (85, 0.040883354500908735),\n",
            " (86, 0.17897535181787882),\n",
            " (87, 0.08494754057666241),\n",
            " (88, 0.04219237562711711),\n",
            " (89, 0.1926536658321141),\n",
            " (90, 0.029447115750503437),\n",
            " (91, 0.05121539822424571),\n",
            " (92, 0.03833494911192236),\n",
            " (93, 0.0672701288141385),\n",
            " (94, 0.03240815783571107),\n",
            " (95, 0.06026033189780337),\n",
            " (96, 0.06503094226488783),\n",
            " (97, 0.043854657196088456),\n",
            " (98, 0.061739112794561374),\n",
            " (99, 0.019946024297212362),\n",
            " (100, 0.04305167526753932),\n",
            " (101, 0.07503074455924934),\n",
            " (102, 0.3442530255214968),\n",
            " (103, 0.0789954708540657),\n",
            " (104, 0.09785168864682912),\n",
            " (105, 0.07637201488096776),\n",
            " (106, 0.10551623615380261),\n",
            " (107, 0.04610002732746006),\n",
            " (108, 0.1095499519248911),\n",
            " (109, 0.05524730372780822),\n",
            " (110, 0.08708880099941933),\n",
            " (111, 0.03840586002056377),\n",
            " (112, 0.12090376895166287),\n",
            " (113, 0.035173679966622386),\n",
            " (114, 0.05698652763671278),\n",
            " (115, 0.0648705084144025),\n",
            " (116, 0.059418295127872334),\n",
            " (117, 0.023266728979881215),\n",
            " (118, 0.03312367890025866),\n",
            " (119, 0.09706219334397155),\n",
            " (120, 0.2816907674175349),\n",
            " (121, 0.13586913735311934),\n",
            " (122, 0.11808241982678867)]\n"
          ]
        }
      ]
    },
    {
      "cell_type": "code",
      "source": [
        "lda_model = gensim.models.LdaMulticore(bow_corpus, num_topics=10, id2word=dictionary, passes=2, workers=2) # Train the lda model using gensim.models.LdaMulticore"
      ],
      "metadata": {
        "id": "rHWql8c8MX7r"
      },
      "execution_count": null,
      "outputs": []
    },
    {
      "cell_type": "code",
      "source": [
        "for idx, topic in lda_model.print_topics(-1):\n",
        "    print('Topic: {} \\nWords: {}'.format(idx, topic)) # Explore the words occurring in that topic and its relative weight"
      ],
      "metadata": {
        "colab": {
          "base_uri": "https://localhost:8080/"
        },
        "id": "uMUYyBWfMX-F",
        "outputId": "e478143c-d2d0-400a-cff8-7b8d67483854"
      },
      "execution_count": null,
      "outputs": [
        {
          "output_type": "stream",
          "name": "stdout",
          "text": [
            "Topic: 0 \n",
            "Words: 0.009*\"border\" + 0.008*\"administration\" + 0.007*\"school\" + 0.006*\"trump\" + 0.006*\"covid\" + 0.005*\"mask\" + 0.004*\"year\" + 0.004*\"texas\" + 0.004*\"mandate\" + 0.004*\"migrants\"\n",
            "Topic: 1 \n",
            "Words: 0.022*\"ukraine\" + 0.018*\"russia\" + 0.012*\"russian\" + 0.009*\"nato\" + 0.008*\"putin\" + 0.005*\"zelenskyy\" + 0.005*\"military\" + 0.005*\"unite\" + 0.005*\"ukrainian\" + 0.005*\"force\"\n",
            "Topic: 2 \n",
            "Words: 0.021*\"russia\" + 0.017*\"ukraine\" + 0.011*\"russian\" + 0.009*\"putin\" + 0.008*\"trump\" + 0.005*\"sanction\" + 0.005*\"administration\" + 0.005*\"invasion\" + 0.004*\"continue\" + 0.004*\"ukrainian\"\n",
            "Topic: 3 \n",
            "Words: 0.015*\"ukraine\" + 0.009*\"putin\" + 0.009*\"russia\" + 0.007*\"russian\" + 0.006*\"administration\" + 0.005*\"trump\" + 0.004*\"go\" + 0.004*\"court\" + 0.004*\"york\" + 0.004*\"support\"\n",
            "Topic: 4 \n",
            "Words: 0.012*\"court\" + 0.008*\"jackson\" + 0.007*\"senate\" + 0.006*\"republican\" + 0.006*\"supreme\" + 0.005*\"trump\" + 0.005*\"campaign\" + 0.004*\"judge\" + 0.004*\"china\" + 0.004*\"white\"\n",
            "Topic: 5 \n",
            "Words: 0.006*\"test\" + 0.005*\"border\" + 0.005*\"school\" + 0.005*\"year\" + 0.005*\"administration\" + 0.005*\"mask\" + 0.004*\"trump\" + 0.004*\"covid\" + 0.004*\"continue\" + 0.003*\"go\"\n",
            "Topic: 6 \n",
            "Words: 0.014*\"vote\" + 0.011*\"senate\" + 0.009*\"democrats\" + 0.006*\"police\" + 0.006*\"republicans\" + 0.005*\"right\" + 0.005*\"year\" + 0.005*\"republican\" + 0.005*\"election\" + 0.005*\"filibuster\"\n",
            "Topic: 7 \n",
            "Words: 0.008*\"trump\" + 0.005*\"campaign\" + 0.004*\"russia\" + 0.004*\"support\" + 0.004*\"right\" + 0.004*\"vote\" + 0.004*\"federal\" + 0.004*\"texas\" + 0.004*\"year\" + 0.004*\"committee\"\n",
            "Topic: 8 \n",
            "Words: 0.007*\"administration\" + 0.007*\"trump\" + 0.006*\"ukraine\" + 0.006*\"year\" + 0.005*\"democrats\" + 0.005*\"republican\" + 0.005*\"iran\" + 0.004*\"republicans\" + 0.004*\"russia\" + 0.004*\"nuclear\"\n",
            "Topic: 9 \n",
            "Words: 0.008*\"ukraine\" + 0.008*\"trump\" + 0.006*\"court\" + 0.006*\"russia\" + 0.005*\"republican\" + 0.005*\"border\" + 0.004*\"go\" + 0.004*\"support\" + 0.004*\"administration\" + 0.004*\"democrats\"\n"
          ]
        }
      ]
    },
    {
      "cell_type": "code",
      "source": [
        ""
      ],
      "metadata": {
        "id": "4srgvDSWMYAj"
      },
      "execution_count": null,
      "outputs": []
    },
    {
      "cell_type": "code",
      "source": [
        ""
      ],
      "metadata": {
        "id": "cniEpnTrT771"
      },
      "execution_count": null,
      "outputs": []
    },
    {
      "cell_type": "code",
      "source": [
        ""
      ],
      "metadata": {
        "id": "9o7a3t6HT799"
      },
      "execution_count": null,
      "outputs": []
    },
    {
      "cell_type": "code",
      "source": [
        "# importing libraries\n",
        "import nltk\n",
        "from nltk.corpus import stopwords\n",
        "from nltk.tokenize import word_tokenize, sent_tokenize\n",
        "nltk.download('stopwords')\n",
        "nltk.download('punkt')\n",
        "\n",
        "# Input text - to summarize\n",
        "text = \"\"\"(CNN)The Florida state Senate on Wednesday advanced legislation pushed by Republican Gov. Ron DeSantis during the state's special legislative session: a new congressional map submitted by the governor and a pair of bills aimed at Disney.\n",
        "\n",
        "The DeSantis-backed map -- which proposes an aggressively partisan redrawing of the state's congressional boundaries that could help the Republican Party pick up four seats in the US House of Representatives this November -- passed the GOP-led Senate along party lines.\n",
        "During the special session, state senators also passed a bill that would eliminate the unique status that allows Disney to operate as an independent government around its Orlando-area theme parks. One Republican, Sen. Jeff Brandes, voted with Democrats against the bill.\n",
        "Additionally, the state Senate gave final passage along party lines to a bill that would eliminate a Disney carve-out in a social media bill that was signed into law last year but put on hold by a federal judge.\n",
        "The Florida House still must pass the bills. It is expected to hold final debate and votes on Thursday.\n",
        "The bills all have received blowback from Democrats in the state.\n",
        "Democrats have criticized the map because it eliminates two seats held by Black members of Congress, while adding several likely Republican districts to the state.\n",
        "The Republican-controlled legislature passed a different congressional district map during the regular session, but DeSantis vetoed that version. Florida Republicans then said they would allow the governor to decide how to reapportion the state's congressional districts. DeSantis offered his map last week, and it was the only version considered by the Senate during the special session.\n",
        "While the special session was initially called to finalize the once-a-decade work of reapportioning congressional lines, state lawmakers added the Disney legislation to the docket after DeSantis on Tuesday escalated his weeks-long feud with Disney, challenging lawmakers in a surprise bombshell announcement to unravel the 55-year-old Reedy Creek Improvement Act, a unique Florida law that helped establish Walt Disney World in the state by giving the brains behind Mickey Mouse operational autonomy.\n",
        "Within hours, Republican lawmakers delivered, advancing a pair of bills targeting Disney over its objections to a new law limiting classroom instruction on sexual orientation and gender identity.\n",
        "\"Once upon a time Disney was a great partner with the state of Florida,\" said Rep. Jackie Toledo, a Tampa Republican. \"We've granted them privileges because of our shared history, shared goals and shared successes. Shamefully, Disney betrayed us.\"\n",
        "It now appears almost certain that by the end of the week, the long-standing symbiotic arrangement that helped grow Disney into an iconic entertainment brand and Florida into an international travel destination could be dissolved.\n",
        "GOP-controlled committees in the state House and Senate voted in favor of a bill that would end the special district on June 1, 2023.\n",
        "Another bill, to subject Disney to a state law that allows people to sue Big Tech companies for censorship, also passed out of initial committees Tuesday afternoon. Disney had won an exemption from the bill last year. A federal judge has blocked the law but Florida is appealing the ruling.\n",
        "Republicans in Florida and Disney have been at odds for months over legislation that prohibits schools from teaching young children about sexual orientation or gender identity. After initially declining to weigh in, Disney CEO Bob Chapek publicly criticized Florida lawmakers for passing what opponents called the \"Don't Say Gay\" bill and apologized to the company's LGBTQ employees for not being a stronger advocate.\n",
        "Chapek announced that the company would stop making political donations in Florida after decades of contributing generously, mostly to Republicans, including a $50,000 donation to DeSantis' reelection effort.\"\"\"\n",
        "\n",
        "# Tokenizing the text\n",
        "stopWords = set(stopwords.words(\"english\"))\n",
        "words = word_tokenize(text)\n",
        "\n",
        "# Score of each word\n",
        "freqTable = dict()\n",
        "for word in words:\n",
        "\tword = word.lower()\n",
        "\tif word in stopWords:\n",
        "\t\tcontinue\n",
        "\tif word in freqTable:\n",
        "\t\tfreqTable[word] += 1\n",
        "\telse:\n",
        "\t\tfreqTable[word] = 1\n",
        "\n",
        "# Calculate the score\n",
        "sentences = sent_tokenize(text)\n",
        "sentenceValue = dict()\n",
        "\n",
        "for sentence in sentences:\n",
        "\tfor word, freq in freqTable.items():\n",
        "\t\tif word in sentence.lower():\n",
        "\t\t\tif sentence in sentenceValue:\n",
        "\t\t\t\tsentenceValue[sentence] += freq\n",
        "\t\t\telse:\n",
        "\t\t\t\tsentenceValue[sentence] = freq\n",
        "\n",
        "sumValues = 0\n",
        "for sentence in sentenceValue:\n",
        "\tsumValues += sentenceValue[sentence]\n",
        "\n",
        "# Average value of a sentence from the original text\n",
        "\n",
        "average = int(sumValues / len(sentenceValue))\n",
        "\n",
        "# Storing sentences into our summary.\n",
        "summary = ''\n",
        "for sentence in sentences:\n",
        "\tif (sentence in sentenceValue) and (sentenceValue[sentence] > (1.9 * average)):\n",
        "\t\tsummary += \" \" + sentence\n",
        "print(summary)"
      ],
      "metadata": {
        "id": "M5-KTSk0Eba7"
      },
      "execution_count": null,
      "outputs": []
    }
  ]
}